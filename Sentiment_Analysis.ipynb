{
  "nbformat": 4,
  "nbformat_minor": 0,
  "metadata": {
    "colab": {
      "provenance": []
    },
    "kernelspec": {
      "name": "python3",
      "display_name": "Python 3"
    },
    "language_info": {
      "name": "python"
    }
  },
  "cells": [
    {
      "cell_type": "code",
      "source": [
        "# !pip install nltk\n",
        "# !pip install nltk==3.8.1\n",
        "import nltk\n",
        "# nltk.download('stopwords')\n",
        "# nltk.download('wordnet')\n"
      ],
      "metadata": {
        "id": "UkPORTGooqbO",
        "colab": {
          "base_uri": "https://localhost:8080/"
        },
        "outputId": "9c9966e0-85c9-474f-be6b-63165c9c890b"
      },
      "execution_count": 1,
      "outputs": [
        {
          "output_type": "stream",
          "name": "stderr",
          "text": [
            "[nltk_data] Downloading package stopwords to /root/nltk_data...\n",
            "[nltk_data]   Unzipping corpora/stopwords.zip.\n",
            "[nltk_data] Downloading package wordnet to /root/nltk_data...\n"
          ]
        },
        {
          "output_type": "execute_result",
          "data": {
            "text/plain": [
              "True"
            ]
          },
          "metadata": {},
          "execution_count": 1
        }
      ]
    },
    {
      "cell_type": "code",
      "source": [
        "import pandas as pd\n",
        "# trainData = pd.read_parquet('/content/sample_data/MovieGenreTraindata.parquet')\n",
        "trainData = pd.read_parquet('/content/sample_data/TrainData.parquet')\n",
        "print(trainData.shape)\n",
        "# print(trainData.head())\n",
        "import numpy as np\n",
        "# Dropping unnecessary columns, keeping movie name, plot, genre\n",
        "trainData = trainData.iloc[:, 2:4].to_numpy()\n",
        "print(trainData[0])\n",
        "print(trainData.shape)"
      ],
      "metadata": {
        "colab": {
          "base_uri": "https://localhost:8080/"
        },
        "id": "JqEM3VQQQEWS",
        "outputId": "26641a81-6d1f-438f-a1b5-ab585c3bec4f"
      },
      "execution_count": 3,
      "outputs": [
        {
          "output_type": "stream",
          "name": "stdout",
          "text": [
            "(54000, 4)\n",
            "['A young scriptwriter starts bringing valuable objects back from his short nightmares of being chased by a demon. Selling them makes him rich.'\n",
            " 'fantasy']\n",
            "(54000, 2)\n"
          ]
        }
      ]
    },
    {
      "cell_type": "code",
      "source": [
        "# getting all class labels\n",
        "genre = []\n",
        "\n",
        "for row in trainData:\n",
        "  if row[1] not in genre:\n",
        "    genre.append(row[1])\n",
        "\n",
        "print(genre)"
      ],
      "metadata": {
        "colab": {
          "base_uri": "https://localhost:8080/"
        },
        "id": "qXn8TWRRQD6M",
        "outputId": "2c03eeb5-401b-4329-f86c-a546fcd847b6"
      },
      "execution_count": 4,
      "outputs": [
        {
          "output_type": "stream",
          "name": "stdout",
          "text": [
            "['fantasy', 'horror', 'family', 'scifi', 'action', 'crime', 'adventure', 'mystery', 'romance', 'thriller']\n"
          ]
        }
      ]
    },
    {
      "cell_type": "markdown",
      "source": [
        "**Exploratory data analysis (EDA)**"
      ],
      "metadata": {
        "id": "C2QnnQxug-BQ"
      }
    },
    {
      "cell_type": "code",
      "source": [
        "# let us check if any rows are missing label:\n",
        "not_labelled = 0\n",
        "for row in trainData:\n",
        "  if row[1] == '':\n",
        "    not_labelled += 1\n",
        "\n",
        "print(not_labelled)\n",
        "\n",
        "# number of times each label appears in training data:\n",
        "label = {}\n",
        "\n",
        "for row in trainData:\n",
        "  if row[1] not in label:\n",
        "    label[row[1]] = 0\n",
        "  label[row[1]] += 1\n",
        "\n",
        "print(label)"
      ],
      "metadata": {
        "colab": {
          "base_uri": "https://localhost:8080/"
        },
        "id": "XKNIZGhkewWL",
        "outputId": "57a7ef1d-bde4-4b18-d5e7-748c82985723"
      },
      "execution_count": 5,
      "outputs": [
        {
          "output_type": "stream",
          "name": "stdout",
          "text": [
            "0\n",
            "{'fantasy': 5400, 'horror': 5400, 'family': 5400, 'scifi': 5400, 'action': 5400, 'crime': 5400, 'adventure': 5400, 'mystery': 5400, 'romance': 5400, 'thriller': 5400}\n"
          ]
        }
      ]
    },
    {
      "cell_type": "markdown",
      "source": [
        "###**Text pre-processing steps:**\n",
        "\n"
      ],
      "metadata": {
        "id": "uOAMkw49iafd"
      }
    },
    {
      "cell_type": "markdown",
      "source": [
        "Removing stopwords, special charactes and numbers to focus on words that matter"
      ],
      "metadata": {
        "id": "oQxEjZOor0AB"
      }
    },
    {
      "cell_type": "code",
      "source": [
        "# remove special char and numbers from our plot\n",
        "import re\n",
        "import nltk\n",
        "# from nltk.tokenize import word_tokenize\n",
        "from nltk.corpus import stopwords\n",
        "# nltk.download('stopwords')\n",
        "for idx in range(len(trainData)):\n",
        "  # remove special char from our plot\n",
        "  spl_char_removed = re.sub('\\W+',' ', trainData[idx][0])\n",
        "  # remove numbers from our plot\n",
        "  num_removed = re.sub(r'\\d+', ' ', spl_char_removed)\n",
        "  # remove stop words from out plot\n",
        "  stop_words = set(stopwords.words('english'))\n",
        "  word_tokens = num_removed.split()\n",
        "  stopword_removed = \" \".join([w for w in word_tokens if not w.lower() in stop_words])\n",
        "  trainData[idx][0] = stopword_removed\n",
        "print(trainData[1])"
      ],
      "metadata": {
        "colab": {
          "base_uri": "https://localhost:8080/"
        },
        "id": "WlYIXy_0icbv",
        "outputId": "10da5281-6580-44a7-ee83-5e3e399dbc22"
      },
      "execution_count": 6,
      "outputs": [
        {
          "output_type": "stream",
          "name": "stdout",
          "text": [
            "['director friends renting haunted house capture paranormal events order prove become popular'\n",
            " 'horror']\n"
          ]
        }
      ]
    },
    {
      "cell_type": "markdown",
      "source": [
        "Lemmatization"
      ],
      "metadata": {
        "id": "O8Je5vzlsezT"
      }
    },
    {
      "cell_type": "code",
      "source": [
        "from nltk.stem import WordNetLemmatizer\n",
        "# nltk.download('wordnet')\n",
        "lemmatizer = WordNetLemmatizer()\n",
        "for idx in range(len(trainData)):\n",
        "  word_tokens = trainData[idx][0].split()\n",
        "  lemma = \" \".join(lemmatizer.lemmatize(w, pos='v') for w in word_tokens)\n",
        "  trainData[idx][0] = lemma\n",
        "\n",
        "print(trainData[1])"
      ],
      "metadata": {
        "colab": {
          "base_uri": "https://localhost:8080/"
        },
        "id": "tb03OssCrj0r",
        "outputId": "5bd344ba-2274-4825-fd20-ca94fa51b435"
      },
      "execution_count": 7,
      "outputs": [
        {
          "output_type": "stream",
          "name": "stdout",
          "text": [
            "['director friends rent haunt house capture paranormal events order prove become popular'\n",
            " 'horror']\n"
          ]
        }
      ]
    },
    {
      "cell_type": "markdown",
      "source": [
        "###Splitting training and testing data"
      ],
      "metadata": {
        "id": "ZVVFlm4dvvub"
      }
    },
    {
      "cell_type": "code",
      "source": [
        "from sklearn.model_selection import train_test_split, GridSearchCV\n",
        "X = np.array([row[0] for row in trainData])\n",
        "y = np.array([row[1] for row in trainData])\n",
        "# shuffle is used to shuffle data and split between train and test.\n",
        "# random state is used to capture the particular shuffle state so same state of shuffle can be used across models to compare\n",
        "X_train, X_test, y_train, y_test = train_test_split(X, y ,random_state=42, test_size=0.25, shuffle=True)\n",
        "print(X_train.shape, X_test.shape, y_train.shape, y_test.shape)"
      ],
      "metadata": {
        "colab": {
          "base_uri": "https://localhost:8080/"
        },
        "id": "IlJrGTbXvvaA",
        "outputId": "3f17e86f-7ef2-44cd-f0ee-e40a078acb3f"
      },
      "execution_count": 9,
      "outputs": [
        {
          "output_type": "stream",
          "name": "stdout",
          "text": [
            "(40500,) (13500,) (40500,) (13500,)\n"
          ]
        }
      ]
    },
    {
      "cell_type": "markdown",
      "source": [
        "###**Vectorizing input**"
      ],
      "metadata": {
        "id": "FYnFf725VeCX"
      }
    },
    {
      "cell_type": "markdown",
      "source": [
        "Bag Of Words Vectorization"
      ],
      "metadata": {
        "id": "R2alLZKsY-Z5"
      }
    },
    {
      "cell_type": "code",
      "source": [
        "import warnings\n",
        "from sklearn.feature_extraction.text import CountVectorizer\n",
        "# considering 1-gram, 2-gram and 3-gram words.\n",
        "# max_features is used to consider that many most frequest terms while predicting label\n",
        "count_vector = CountVectorizer(ngram_range = (1,3), max_features = 25000)\n",
        "X_Train_BOW = count_vector.fit_transform(X_train)\n",
        "BOW_Result = {}"
      ],
      "metadata": {
        "id": "_JcPBrnLW2tE"
      },
      "execution_count": 10,
      "outputs": []
    },
    {
      "cell_type": "markdown",
      "source": [
        "TF-IDF Vectorization"
      ],
      "metadata": {
        "id": "ixa18wuXZC1r"
      }
    },
    {
      "cell_type": "code",
      "source": [
        "from sklearn.feature_extraction.text import TfidfVectorizer\n",
        "# if word freq is below min_df or above max_df ignore\n",
        "tfidf_vector = TfidfVectorizer(ngram_range = (1,1), max_df=.80, min_df=25, lowercase=False)\n",
        "X_Train_TF_IDF = tfidf_vector.fit_transform(X_train)\n",
        "TFIDF_Result = {}"
      ],
      "metadata": {
        "id": "koWIrIu7PATZ"
      },
      "execution_count": 11,
      "outputs": []
    },
    {
      "cell_type": "markdown",
      "source": [
        "###**Model training and prediction**"
      ],
      "metadata": {
        "id": "9KDAKoRaZ3AI"
      }
    },
    {
      "cell_type": "markdown",
      "source": [
        "**Logistic Regression**"
      ],
      "metadata": {
        "id": "n-FmIZiXaBU3"
      }
    },
    {
      "cell_type": "code",
      "source": [
        "from sklearn.multiclass import OneVsRestClassifier\n",
        "from sklearn.linear_model import LogisticRegression\n",
        "\n",
        "grid_LogReg = {\n",
        "    'estimator__C' : [0.01, 0.1, 1.0, 5],\n",
        "    'estimator__penalty' : ['l2', 'l1'],\n",
        "    'estimator__class_weight' : ['balanced', None],\n",
        "    'estimator__solver' : ['lbfgs', 'liblinear']\n",
        "}\n",
        "log_reg = OneVsRestClassifier(LogisticRegression(random_state = 42))\n",
        "# cv = cross validation in next cell"
      ],
      "metadata": {
        "id": "KR1NOqzZV95r"
      },
      "execution_count": 12,
      "outputs": []
    },
    {
      "cell_type": "code",
      "source": [
        "# BOW or count vector\n",
        "log_reg_grid_search_BOW = GridSearchCV(log_reg, param_grid = grid_LogReg, cv = 5)# , error_score='raise')\n",
        "# Supressing warning\n",
        "with warnings.catch_warnings(record=True) as w:\n",
        "    warnings.simplefilter(\"ignore\")\n",
        "    log_reg_grid_search_BOW.fit(X_Train_BOW, y_train)\n",
        "\n",
        "BOW_Result['LogisticRegression'] = log_reg_grid_search_BOW.best_score_\n",
        "\n",
        "print(\"BOW Logistic Regression best score: \", log_reg_grid_search_BOW.best_score_)\n",
        "print(\"BOW Logistic Regression cross validation result: \", log_reg_grid_search_BOW.cv_results_)\n",
        "print(\"BOW Logistic Regression best parameters: \", log_reg_grid_search_BOW.best_params_)"
      ],
      "metadata": {
        "colab": {
          "base_uri": "https://localhost:8080/"
        },
        "id": "f1CAFAhIhdi4",
        "outputId": "c0d086da-0764-4e5a-96f5-0c55e45cdcbe"
      },
      "execution_count": 13,
      "outputs": [
        {
          "output_type": "stream",
          "name": "stdout",
          "text": [
            "BOW Logistic Regression best score:  0.3479259259259259\n",
            "BOW Logistic Regression cross validation result:  {'mean_fit_time': array([ 6.17059011,  2.57454181,  0.03666973,  1.26346331,  3.93506689,\n",
            "        1.57278376,  0.04685245,  1.23257966,  8.23599119,  4.03107667,\n",
            "        0.03685684,  2.22441282,  6.40951376,  4.26950035,  0.0374908 ,\n",
            "        1.8478888 , 13.75714145,  8.158915  ,  0.03576522,  7.24359889,\n",
            "       11.56196175,  7.40408368,  0.03719907,  3.00877924, 18.07897468,\n",
            "       12.3326117 ,  0.05146866, 14.38803992, 15.52856336, 13.66293869,\n",
            "        0.03721037,  7.41451883]), 'std_fit_time': array([3.04432335e+00, 1.22495018e+00, 7.19204564e-03, 5.87453007e-02,\n",
            "       9.40301986e-01, 7.48768197e-03, 2.91697135e-03, 1.70057159e-01,\n",
            "       1.17085734e+00, 1.22419437e+00, 6.99796848e-03, 3.65335130e-01,\n",
            "       1.52966119e+00, 1.14165416e+00, 8.17092651e-03, 1.95272407e-01,\n",
            "       1.49463084e+00, 1.60837935e+00, 7.25644510e-03, 9.10364939e-01,\n",
            "       1.02603174e+00, 1.53050170e+00, 7.06574719e-03, 4.33166611e-01,\n",
            "       1.02867302e+00, 3.06360240e-01, 7.35689439e-03, 3.74145591e-01,\n",
            "       1.28896096e+00, 4.41293276e-01, 8.27919778e-03, 5.69323261e-01]), 'mean_score_time': array([0.04444289, 0.01616282, 0.        , 0.01125102, 0.02299781,\n",
            "       0.01858807, 0.        , 0.01360259, 0.02295618, 0.0156354 ,\n",
            "       0.        , 0.01294293, 0.03059764, 0.01573448, 0.        ,\n",
            "       0.01183753, 0.0393209 , 0.01613474, 0.        , 0.01060767,\n",
            "       0.02590218, 0.01525183, 0.        , 0.01146259, 0.02605481,\n",
            "       0.017384  , 0.        , 0.01068106, 0.03033237, 0.01670656,\n",
            "       0.        , 0.01304889]), 'std_score_time': array([0.02240831, 0.00149389, 0.        , 0.00179504, 0.00681034,\n",
            "       0.00578516, 0.        , 0.00411936, 0.01530428, 0.00142939,\n",
            "       0.        , 0.00213958, 0.01396483, 0.00122629, 0.        ,\n",
            "       0.00220216, 0.01197733, 0.00083621, 0.        , 0.00020628,\n",
            "       0.00789308, 0.00069417, 0.        , 0.00208941, 0.00828716,\n",
            "       0.00348061, 0.        , 0.00027571, 0.01130121, 0.00382803,\n",
            "       0.        , 0.00302496]), 'param_estimator__C': masked_array(data=[0.01, 0.01, 0.01, 0.01, 0.01, 0.01, 0.01, 0.01, 0.1,\n",
            "                   0.1, 0.1, 0.1, 0.1, 0.1, 0.1, 0.1, 1.0, 1.0, 1.0, 1.0,\n",
            "                   1.0, 1.0, 1.0, 1.0, 5.0, 5.0, 5.0, 5.0, 5.0, 5.0, 5.0,\n",
            "                   5.0],\n",
            "             mask=[False, False, False, False, False, False, False, False,\n",
            "                   False, False, False, False, False, False, False, False,\n",
            "                   False, False, False, False, False, False, False, False,\n",
            "                   False, False, False, False, False, False, False, False],\n",
            "       fill_value=1e+20), 'param_estimator__class_weight': masked_array(data=['balanced', 'balanced', 'balanced', 'balanced', None,\n",
            "                   None, None, None, 'balanced', 'balanced', 'balanced',\n",
            "                   'balanced', None, None, None, None, 'balanced',\n",
            "                   'balanced', 'balanced', 'balanced', None, None, None,\n",
            "                   None, 'balanced', 'balanced', 'balanced', 'balanced',\n",
            "                   None, None, None, None],\n",
            "             mask=[False, False, False, False, False, False, False, False,\n",
            "                   False, False, False, False, False, False, False, False,\n",
            "                   False, False, False, False, False, False, False, False,\n",
            "                   False, False, False, False, False, False, False, False],\n",
            "       fill_value='?',\n",
            "            dtype=object), 'param_estimator__penalty': masked_array(data=['l2', 'l2', 'l1', 'l1', 'l2', 'l2', 'l1', 'l1', 'l2',\n",
            "                   'l2', 'l1', 'l1', 'l2', 'l2', 'l1', 'l1', 'l2', 'l2',\n",
            "                   'l1', 'l1', 'l2', 'l2', 'l1', 'l1', 'l2', 'l2', 'l1',\n",
            "                   'l1', 'l2', 'l2', 'l1', 'l1'],\n",
            "             mask=[False, False, False, False, False, False, False, False,\n",
            "                   False, False, False, False, False, False, False, False,\n",
            "                   False, False, False, False, False, False, False, False,\n",
            "                   False, False, False, False, False, False, False, False],\n",
            "       fill_value='?',\n",
            "            dtype=object), 'param_estimator__solver': masked_array(data=['lbfgs', 'liblinear', 'lbfgs', 'liblinear', 'lbfgs',\n",
            "                   'liblinear', 'lbfgs', 'liblinear', 'lbfgs',\n",
            "                   'liblinear', 'lbfgs', 'liblinear', 'lbfgs',\n",
            "                   'liblinear', 'lbfgs', 'liblinear', 'lbfgs',\n",
            "                   'liblinear', 'lbfgs', 'liblinear', 'lbfgs',\n",
            "                   'liblinear', 'lbfgs', 'liblinear', 'lbfgs',\n",
            "                   'liblinear', 'lbfgs', 'liblinear', 'lbfgs',\n",
            "                   'liblinear', 'lbfgs', 'liblinear'],\n",
            "             mask=[False, False, False, False, False, False, False, False,\n",
            "                   False, False, False, False, False, False, False, False,\n",
            "                   False, False, False, False, False, False, False, False,\n",
            "                   False, False, False, False, False, False, False, False],\n",
            "       fill_value='?',\n",
            "            dtype=object), 'params': [{'estimator__C': 0.01, 'estimator__class_weight': 'balanced', 'estimator__penalty': 'l2', 'estimator__solver': 'lbfgs'}, {'estimator__C': 0.01, 'estimator__class_weight': 'balanced', 'estimator__penalty': 'l2', 'estimator__solver': 'liblinear'}, {'estimator__C': 0.01, 'estimator__class_weight': 'balanced', 'estimator__penalty': 'l1', 'estimator__solver': 'lbfgs'}, {'estimator__C': 0.01, 'estimator__class_weight': 'balanced', 'estimator__penalty': 'l1', 'estimator__solver': 'liblinear'}, {'estimator__C': 0.01, 'estimator__class_weight': None, 'estimator__penalty': 'l2', 'estimator__solver': 'lbfgs'}, {'estimator__C': 0.01, 'estimator__class_weight': None, 'estimator__penalty': 'l2', 'estimator__solver': 'liblinear'}, {'estimator__C': 0.01, 'estimator__class_weight': None, 'estimator__penalty': 'l1', 'estimator__solver': 'lbfgs'}, {'estimator__C': 0.01, 'estimator__class_weight': None, 'estimator__penalty': 'l1', 'estimator__solver': 'liblinear'}, {'estimator__C': 0.1, 'estimator__class_weight': 'balanced', 'estimator__penalty': 'l2', 'estimator__solver': 'lbfgs'}, {'estimator__C': 0.1, 'estimator__class_weight': 'balanced', 'estimator__penalty': 'l2', 'estimator__solver': 'liblinear'}, {'estimator__C': 0.1, 'estimator__class_weight': 'balanced', 'estimator__penalty': 'l1', 'estimator__solver': 'lbfgs'}, {'estimator__C': 0.1, 'estimator__class_weight': 'balanced', 'estimator__penalty': 'l1', 'estimator__solver': 'liblinear'}, {'estimator__C': 0.1, 'estimator__class_weight': None, 'estimator__penalty': 'l2', 'estimator__solver': 'lbfgs'}, {'estimator__C': 0.1, 'estimator__class_weight': None, 'estimator__penalty': 'l2', 'estimator__solver': 'liblinear'}, {'estimator__C': 0.1, 'estimator__class_weight': None, 'estimator__penalty': 'l1', 'estimator__solver': 'lbfgs'}, {'estimator__C': 0.1, 'estimator__class_weight': None, 'estimator__penalty': 'l1', 'estimator__solver': 'liblinear'}, {'estimator__C': 1.0, 'estimator__class_weight': 'balanced', 'estimator__penalty': 'l2', 'estimator__solver': 'lbfgs'}, {'estimator__C': 1.0, 'estimator__class_weight': 'balanced', 'estimator__penalty': 'l2', 'estimator__solver': 'liblinear'}, {'estimator__C': 1.0, 'estimator__class_weight': 'balanced', 'estimator__penalty': 'l1', 'estimator__solver': 'lbfgs'}, {'estimator__C': 1.0, 'estimator__class_weight': 'balanced', 'estimator__penalty': 'l1', 'estimator__solver': 'liblinear'}, {'estimator__C': 1.0, 'estimator__class_weight': None, 'estimator__penalty': 'l2', 'estimator__solver': 'lbfgs'}, {'estimator__C': 1.0, 'estimator__class_weight': None, 'estimator__penalty': 'l2', 'estimator__solver': 'liblinear'}, {'estimator__C': 1.0, 'estimator__class_weight': None, 'estimator__penalty': 'l1', 'estimator__solver': 'lbfgs'}, {'estimator__C': 1.0, 'estimator__class_weight': None, 'estimator__penalty': 'l1', 'estimator__solver': 'liblinear'}, {'estimator__C': 5, 'estimator__class_weight': 'balanced', 'estimator__penalty': 'l2', 'estimator__solver': 'lbfgs'}, {'estimator__C': 5, 'estimator__class_weight': 'balanced', 'estimator__penalty': 'l2', 'estimator__solver': 'liblinear'}, {'estimator__C': 5, 'estimator__class_weight': 'balanced', 'estimator__penalty': 'l1', 'estimator__solver': 'lbfgs'}, {'estimator__C': 5, 'estimator__class_weight': 'balanced', 'estimator__penalty': 'l1', 'estimator__solver': 'liblinear'}, {'estimator__C': 5, 'estimator__class_weight': None, 'estimator__penalty': 'l2', 'estimator__solver': 'lbfgs'}, {'estimator__C': 5, 'estimator__class_weight': None, 'estimator__penalty': 'l2', 'estimator__solver': 'liblinear'}, {'estimator__C': 5, 'estimator__class_weight': None, 'estimator__penalty': 'l1', 'estimator__solver': 'lbfgs'}, {'estimator__C': 5, 'estimator__class_weight': None, 'estimator__penalty': 'l1', 'estimator__solver': 'liblinear'}], 'split0_test_score': array([0.34925926, 0.34901235,        nan, 0.2762963 , 0.33938272,\n",
            "       0.33851852,        nan, 0.21209877, 0.33024691, 0.33037037,\n",
            "              nan, 0.34061728, 0.34222222, 0.34197531,        nan,\n",
            "       0.32703704, 0.28358025, 0.28271605,        nan, 0.2782716 ,\n",
            "       0.28691358, 0.28716049,        nan, 0.30641975, 0.25283951,\n",
            "       0.25123457,        nan, 0.2382716 , 0.25555556, 0.2562963 ,\n",
            "              nan, 0.24345679]), 'split1_test_score': array([0.35444444, 0.35407407,        nan, 0.28407407, 0.3491358 ,\n",
            "       0.34962963,        nan, 0.21604938, 0.33679012, 0.33691358,\n",
            "              nan, 0.3562963 , 0.34765432, 0.3482716 ,        nan,\n",
            "       0.3437037 , 0.28567901, 0.28518519,        nan, 0.28407407,\n",
            "       0.29308642, 0.29246914,        nan, 0.31049383, 0.26358025,\n",
            "       0.2617284 ,        nan, 0.24777778, 0.26469136, 0.26481481,\n",
            "              nan, 0.24950617]), 'split2_test_score': array([0.3462963 , 0.34765432,        nan, 0.28123457, 0.34345679,\n",
            "       0.3437037 ,        nan, 0.21592593, 0.3262963 , 0.32716049,\n",
            "              nan, 0.34320988, 0.33765432, 0.33864198,        nan,\n",
            "       0.33382716, 0.27493827, 0.27358025,        nan, 0.27790123,\n",
            "       0.28098765, 0.28049383,        nan, 0.30530864, 0.25074074,\n",
            "       0.24666667,        nan, 0.23888889, 0.25666667, 0.25407407,\n",
            "              nan, 0.2462963 ]), 'split3_test_score': array([0.34975309, 0.35012346,        nan, 0.28135802, 0.34728395,\n",
            "       0.34703704,        nan, 0.22604938, 0.32567901, 0.32518519,\n",
            "              nan, 0.35024691, 0.3417284 , 0.34123457,        nan,\n",
            "       0.34074074, 0.27580247, 0.27567901,        nan, 0.27432099,\n",
            "       0.28098765, 0.28098765,        nan, 0.30283951, 0.24790123,\n",
            "       0.24691358,        nan, 0.23345679, 0.25580247, 0.25259259,\n",
            "              nan, 0.23962963]), 'split4_test_score': array([0.33901235, 0.33876543,        nan, 0.27382716, 0.33530864,\n",
            "       0.33407407,        nan, 0.21839506, 0.33037037, 0.33049383,\n",
            "              nan, 0.34271605, 0.34049383, 0.34296296,        nan,\n",
            "       0.33012346, 0.27740741, 0.27716049,        nan, 0.2808642 ,\n",
            "       0.28407407, 0.28419753,        nan, 0.30518519, 0.2537037 ,\n",
            "       0.25296296,        nan, 0.24567901, 0.25740741, 0.25641975,\n",
            "              nan, 0.25074074]), 'mean_test_score': array([0.34775309, 0.34792593,        nan, 0.27935802, 0.34291358,\n",
            "       0.34259259,        nan, 0.2177037 , 0.32987654, 0.33002469,\n",
            "              nan, 0.34661728, 0.34195062, 0.34261728,        nan,\n",
            "       0.33508642, 0.27948148, 0.2788642 ,        nan, 0.27908642,\n",
            "       0.28520988, 0.28506173,        nan, 0.30604938, 0.25375309,\n",
            "       0.25190123,        nan, 0.24081481, 0.25802469, 0.25683951,\n",
            "              nan, 0.24592593]), 'std_test_score': array([0.00509049, 0.00505564,        nan, 0.00373436, 0.00506781,\n",
            "       0.00565103,        nan, 0.00463554, 0.00396525, 0.00398549,\n",
            "              nan, 0.00582559, 0.003263  , 0.00316916,        nan,\n",
            "       0.00628074, 0.00432867, 0.0043763 ,        nan, 0.00325008,\n",
            "       0.00451413, 0.00441554,        nan, 0.00250955, 0.00530525,\n",
            "       0.00548493,        nan, 0.00522419, 0.00339719, 0.004237  ,\n",
            "              nan, 0.00404667]), 'rank_test_score': array([ 2,  1, 25, 15,  4,  6, 25, 24, 10,  9, 25,  3,  7,  5, 25,  8, 14,\n",
            "       17, 25, 16, 12, 13, 25, 11, 20, 21, 25, 23, 18, 19, 25, 22],\n",
            "      dtype=int32)}\n",
            "BOW Logistic Regression best parameters:  {'estimator__C': 0.01, 'estimator__class_weight': 'balanced', 'estimator__penalty': 'l2', 'estimator__solver': 'liblinear'}\n"
          ]
        }
      ]
    },
    {
      "cell_type": "code",
      "source": [
        "# TF-IDF vector\n",
        "log_reg_grid_search_TFIDF = GridSearchCV(log_reg, param_grid = grid_LogReg, cv = 5)\n",
        "# Supressing warning\n",
        "with warnings.catch_warnings(record=False) as w1:\n",
        "    warnings.simplefilter(\"ignore\")\n",
        "    log_reg_grid_search_TFIDF.fit(X_Train_TF_IDF, y_train)\n",
        "\n",
        "TFIDF_Result['LogisticRegression'] = log_reg_grid_search_TFIDF.best_score_\n",
        "\n",
        "print(\"TF-IDF Logistic Regression best score: \",log_reg_grid_search_TFIDF.best_score_)\n",
        "print(\"TF-IDF Logistic Regression cross validation result: \",log_reg_grid_search_TFIDF.cv_results_)\n",
        "print(\"TF-IDF Logistic Regression best parameters: \",log_reg_grid_search_TFIDF.best_params_)"
      ],
      "metadata": {
        "id": "AGvw1Dw_hfMv",
        "colab": {
          "base_uri": "https://localhost:8080/"
        },
        "outputId": "fc4c5190-748a-4bb9-9427-51e23e055e9f"
      },
      "execution_count": 14,
      "outputs": [
        {
          "output_type": "stream",
          "name": "stdout",
          "text": [
            "TF-IDF Logistic Regression best score:  0.3482716049382716\n",
            "TF-IDF Logistic Regression cross validation result:  {'mean_fit_time': array([0.38886628, 0.65194926, 0.04906163, 0.34339714, 0.40024614,\n",
            "       0.45791621, 0.02985678, 0.33481598, 0.84025674, 0.76576872,\n",
            "       0.03032274, 0.72782078, 0.61050763, 0.85688653, 0.02994757,\n",
            "       0.53053927, 1.16403112, 1.43647223, 0.03053894, 2.99308939,\n",
            "       1.08556366, 1.20493498, 0.03067956, 1.27966399, 1.84953227,\n",
            "       2.10626068, 0.03184562, 5.5257638 , 1.5850143 , 1.65285773,\n",
            "       0.0299407 , 3.69970479]), 'std_fit_time': array([1.44957978e-02, 5.46988872e-02, 4.89059660e-03, 3.16439721e-02,\n",
            "       8.96778994e-03, 8.58468841e-03, 6.20280061e-04, 5.92670904e-03,\n",
            "       1.77643441e-01, 1.34460384e-01, 7.69704662e-04, 1.91164897e-02,\n",
            "       1.93353778e-02, 1.17137126e-01, 4.56854951e-04, 1.46446716e-02,\n",
            "       4.88080651e-02, 2.43177994e-01, 1.76426753e-03, 4.49692435e-01,\n",
            "       9.86112568e-02, 1.89640389e-01, 7.62309747e-04, 2.15957497e-02,\n",
            "       2.37180335e-01, 3.20158822e-01, 3.81313957e-03, 4.40871381e-01,\n",
            "       5.10804279e-02, 2.66865022e-01, 1.81951250e-04, 3.76785997e-01]), 'mean_score_time': array([0.00874424, 0.01263542, 0.        , 0.0084157 , 0.00845995,\n",
            "       0.008605  , 0.        , 0.00820284, 0.00966339, 0.00944877,\n",
            "       0.        , 0.00855536, 0.00841632, 0.01079392, 0.        ,\n",
            "       0.00899973, 0.00832553, 0.01005936, 0.        , 0.01016583,\n",
            "       0.00834942, 0.01121383, 0.        , 0.00894632, 0.01089988,\n",
            "       0.00921545, 0.        , 0.00956073, 0.00841346, 0.00937381,\n",
            "       0.        , 0.00929165]), 'std_score_time': array([3.88242794e-04, 5.85527788e-04, 0.00000000e+00, 1.37164925e-04,\n",
            "       6.83024249e-05, 1.45047797e-04, 0.00000000e+00, 3.94699445e-04,\n",
            "       1.71641262e-03, 1.86751191e-03, 0.00000000e+00, 1.07085078e-04,\n",
            "       1.21772354e-04, 2.03031124e-03, 0.00000000e+00, 8.12606749e-04,\n",
            "       1.18291123e-04, 1.97718079e-03, 0.00000000e+00, 2.14041302e-03,\n",
            "       2.05793769e-04, 2.14779409e-03, 0.00000000e+00, 1.19410268e-03,\n",
            "       2.57417690e-03, 1.72721311e-03, 0.00000000e+00, 2.26522490e-03,\n",
            "       1.19125585e-04, 1.67391373e-03, 0.00000000e+00, 1.61447512e-03]), 'param_estimator__C': masked_array(data=[0.01, 0.01, 0.01, 0.01, 0.01, 0.01, 0.01, 0.01, 0.1,\n",
            "                   0.1, 0.1, 0.1, 0.1, 0.1, 0.1, 0.1, 1.0, 1.0, 1.0, 1.0,\n",
            "                   1.0, 1.0, 1.0, 1.0, 5.0, 5.0, 5.0, 5.0, 5.0, 5.0, 5.0,\n",
            "                   5.0],\n",
            "             mask=[False, False, False, False, False, False, False, False,\n",
            "                   False, False, False, False, False, False, False, False,\n",
            "                   False, False, False, False, False, False, False, False,\n",
            "                   False, False, False, False, False, False, False, False],\n",
            "       fill_value=1e+20), 'param_estimator__class_weight': masked_array(data=['balanced', 'balanced', 'balanced', 'balanced', None,\n",
            "                   None, None, None, 'balanced', 'balanced', 'balanced',\n",
            "                   'balanced', None, None, None, None, 'balanced',\n",
            "                   'balanced', 'balanced', 'balanced', None, None, None,\n",
            "                   None, 'balanced', 'balanced', 'balanced', 'balanced',\n",
            "                   None, None, None, None],\n",
            "             mask=[False, False, False, False, False, False, False, False,\n",
            "                   False, False, False, False, False, False, False, False,\n",
            "                   False, False, False, False, False, False, False, False,\n",
            "                   False, False, False, False, False, False, False, False],\n",
            "       fill_value='?',\n",
            "            dtype=object), 'param_estimator__penalty': masked_array(data=['l2', 'l2', 'l1', 'l1', 'l2', 'l2', 'l1', 'l1', 'l2',\n",
            "                   'l2', 'l1', 'l1', 'l2', 'l2', 'l1', 'l1', 'l2', 'l2',\n",
            "                   'l1', 'l1', 'l2', 'l2', 'l1', 'l1', 'l2', 'l2', 'l1',\n",
            "                   'l1', 'l2', 'l2', 'l1', 'l1'],\n",
            "             mask=[False, False, False, False, False, False, False, False,\n",
            "                   False, False, False, False, False, False, False, False,\n",
            "                   False, False, False, False, False, False, False, False,\n",
            "                   False, False, False, False, False, False, False, False],\n",
            "       fill_value='?',\n",
            "            dtype=object), 'param_estimator__solver': masked_array(data=['lbfgs', 'liblinear', 'lbfgs', 'liblinear', 'lbfgs',\n",
            "                   'liblinear', 'lbfgs', 'liblinear', 'lbfgs',\n",
            "                   'liblinear', 'lbfgs', 'liblinear', 'lbfgs',\n",
            "                   'liblinear', 'lbfgs', 'liblinear', 'lbfgs',\n",
            "                   'liblinear', 'lbfgs', 'liblinear', 'lbfgs',\n",
            "                   'liblinear', 'lbfgs', 'liblinear', 'lbfgs',\n",
            "                   'liblinear', 'lbfgs', 'liblinear', 'lbfgs',\n",
            "                   'liblinear', 'lbfgs', 'liblinear'],\n",
            "             mask=[False, False, False, False, False, False, False, False,\n",
            "                   False, False, False, False, False, False, False, False,\n",
            "                   False, False, False, False, False, False, False, False,\n",
            "                   False, False, False, False, False, False, False, False],\n",
            "       fill_value='?',\n",
            "            dtype=object), 'params': [{'estimator__C': 0.01, 'estimator__class_weight': 'balanced', 'estimator__penalty': 'l2', 'estimator__solver': 'lbfgs'}, {'estimator__C': 0.01, 'estimator__class_weight': 'balanced', 'estimator__penalty': 'l2', 'estimator__solver': 'liblinear'}, {'estimator__C': 0.01, 'estimator__class_weight': 'balanced', 'estimator__penalty': 'l1', 'estimator__solver': 'lbfgs'}, {'estimator__C': 0.01, 'estimator__class_weight': 'balanced', 'estimator__penalty': 'l1', 'estimator__solver': 'liblinear'}, {'estimator__C': 0.01, 'estimator__class_weight': None, 'estimator__penalty': 'l2', 'estimator__solver': 'lbfgs'}, {'estimator__C': 0.01, 'estimator__class_weight': None, 'estimator__penalty': 'l2', 'estimator__solver': 'liblinear'}, {'estimator__C': 0.01, 'estimator__class_weight': None, 'estimator__penalty': 'l1', 'estimator__solver': 'lbfgs'}, {'estimator__C': 0.01, 'estimator__class_weight': None, 'estimator__penalty': 'l1', 'estimator__solver': 'liblinear'}, {'estimator__C': 0.1, 'estimator__class_weight': 'balanced', 'estimator__penalty': 'l2', 'estimator__solver': 'lbfgs'}, {'estimator__C': 0.1, 'estimator__class_weight': 'balanced', 'estimator__penalty': 'l2', 'estimator__solver': 'liblinear'}, {'estimator__C': 0.1, 'estimator__class_weight': 'balanced', 'estimator__penalty': 'l1', 'estimator__solver': 'lbfgs'}, {'estimator__C': 0.1, 'estimator__class_weight': 'balanced', 'estimator__penalty': 'l1', 'estimator__solver': 'liblinear'}, {'estimator__C': 0.1, 'estimator__class_weight': None, 'estimator__penalty': 'l2', 'estimator__solver': 'lbfgs'}, {'estimator__C': 0.1, 'estimator__class_weight': None, 'estimator__penalty': 'l2', 'estimator__solver': 'liblinear'}, {'estimator__C': 0.1, 'estimator__class_weight': None, 'estimator__penalty': 'l1', 'estimator__solver': 'lbfgs'}, {'estimator__C': 0.1, 'estimator__class_weight': None, 'estimator__penalty': 'l1', 'estimator__solver': 'liblinear'}, {'estimator__C': 1.0, 'estimator__class_weight': 'balanced', 'estimator__penalty': 'l2', 'estimator__solver': 'lbfgs'}, {'estimator__C': 1.0, 'estimator__class_weight': 'balanced', 'estimator__penalty': 'l2', 'estimator__solver': 'liblinear'}, {'estimator__C': 1.0, 'estimator__class_weight': 'balanced', 'estimator__penalty': 'l1', 'estimator__solver': 'lbfgs'}, {'estimator__C': 1.0, 'estimator__class_weight': 'balanced', 'estimator__penalty': 'l1', 'estimator__solver': 'liblinear'}, {'estimator__C': 1.0, 'estimator__class_weight': None, 'estimator__penalty': 'l2', 'estimator__solver': 'lbfgs'}, {'estimator__C': 1.0, 'estimator__class_weight': None, 'estimator__penalty': 'l2', 'estimator__solver': 'liblinear'}, {'estimator__C': 1.0, 'estimator__class_weight': None, 'estimator__penalty': 'l1', 'estimator__solver': 'lbfgs'}, {'estimator__C': 1.0, 'estimator__class_weight': None, 'estimator__penalty': 'l1', 'estimator__solver': 'liblinear'}, {'estimator__C': 5, 'estimator__class_weight': 'balanced', 'estimator__penalty': 'l2', 'estimator__solver': 'lbfgs'}, {'estimator__C': 5, 'estimator__class_weight': 'balanced', 'estimator__penalty': 'l2', 'estimator__solver': 'liblinear'}, {'estimator__C': 5, 'estimator__class_weight': 'balanced', 'estimator__penalty': 'l1', 'estimator__solver': 'lbfgs'}, {'estimator__C': 5, 'estimator__class_weight': 'balanced', 'estimator__penalty': 'l1', 'estimator__solver': 'liblinear'}, {'estimator__C': 5, 'estimator__class_weight': None, 'estimator__penalty': 'l2', 'estimator__solver': 'lbfgs'}, {'estimator__C': 5, 'estimator__class_weight': None, 'estimator__penalty': 'l2', 'estimator__solver': 'liblinear'}, {'estimator__C': 5, 'estimator__class_weight': None, 'estimator__penalty': 'l1', 'estimator__solver': 'lbfgs'}, {'estimator__C': 5, 'estimator__class_weight': None, 'estimator__penalty': 'l1', 'estimator__solver': 'liblinear'}], 'split0_test_score': array([0.33444444, 0.33382716,        nan, 0.1745679 , 0.32506173,\n",
            "       0.32604938,        nan, 0.12407407, 0.34222222, 0.34234568,\n",
            "              nan, 0.3191358 , 0.34358025, 0.34345679,        nan,\n",
            "       0.2791358 , 0.32851852, 0.32962963,        nan, 0.32728395,\n",
            "       0.34234568, 0.34246914,        nan, 0.34123457, 0.30864198,\n",
            "       0.30876543,        nan, 0.2945679 , 0.31716049, 0.31888889,\n",
            "              nan, 0.30691358]), 'split1_test_score': array([0.3417284 , 0.34222222,        nan, 0.17654321, 0.33679012,\n",
            "       0.33790123,        nan, 0.12481481, 0.3537037 , 0.35395062,\n",
            "              nan, 0.32814815, 0.34864198, 0.34851852,        nan,\n",
            "       0.28493827, 0.33765432, 0.33691358,        nan, 0.33320988,\n",
            "       0.34716049, 0.34790123,        nan, 0.34839506, 0.31518519,\n",
            "       0.31530864,        nan, 0.30271605, 0.32666667, 0.32679012,\n",
            "              nan, 0.31382716]), 'split2_test_score': array([0.33876543, 0.33864198,        nan, 0.17074074, 0.3317284 ,\n",
            "       0.33308642,        nan, 0.12222222, 0.34987654, 0.35037037,\n",
            "              nan, 0.32123457, 0.34617284, 0.34654321,        nan,\n",
            "       0.27864198, 0.33197531, 0.33074074,        nan, 0.32716049,\n",
            "       0.34469136, 0.34358025,        nan, 0.34049383, 0.30864198,\n",
            "       0.30728395,        nan, 0.28987654, 0.31296296, 0.31296296,\n",
            "              nan, 0.30555556]), 'split3_test_score': array([0.34259259, 0.34246914,        nan, 0.17938272, 0.33716049,\n",
            "       0.33703704,        nan, 0.12506173, 0.3508642 , 0.3508642 ,\n",
            "              nan, 0.32679012, 0.35382716, 0.35395062,        nan,\n",
            "       0.27962963, 0.33407407, 0.33506173,        nan, 0.33419753,\n",
            "       0.34567901, 0.34777778,        nan, 0.34839506, 0.30925926,\n",
            "       0.31012346,        nan, 0.29074074, 0.32024691, 0.31703704,\n",
            "              nan, 0.30592593]), 'split4_test_score': array([0.32851852, 0.32802469,        nan, 0.17469136, 0.32555556,\n",
            "       0.32679012,        nan, 0.12160494, 0.34469136, 0.3437037 ,\n",
            "              nan, 0.31518519, 0.34037037, 0.34024691,        nan,\n",
            "       0.27716049, 0.32864198, 0.32901235,        nan, 0.32716049,\n",
            "       0.33851852, 0.33888889,        nan, 0.33987654, 0.30580247,\n",
            "       0.30703704,        nan, 0.29123457, 0.32209877, 0.32098765,\n",
            "              nan, 0.30888889]), 'mean_test_score': array([0.33720988, 0.33703704,        nan, 0.17518519, 0.33125926,\n",
            "       0.33217284,        nan, 0.12355556, 0.3482716 , 0.34824691,\n",
            "              nan, 0.32209877, 0.34651852, 0.34654321,        nan,\n",
            "       0.27990123, 0.33217284, 0.3322716 ,        nan, 0.32980247,\n",
            "       0.34367901, 0.34412346,        nan, 0.34367901, 0.30950617,\n",
            "       0.3097037 ,        nan, 0.29382716, 0.31982716, 0.31933333,\n",
            "              nan, 0.30822222]), 'std_test_score': array([0.00519611, 0.00548626,        nan, 0.00282282, 0.00522641,\n",
            "       0.00497554,        nan, 0.00139326, 0.00420043, 0.00445773,\n",
            "              nan, 0.00481513, 0.00457117, 0.00464631,        nan,\n",
            "       0.00265061, 0.00345026, 0.0031394 ,        nan, 0.00320094,\n",
            "       0.00301841, 0.00340759,        nan, 0.00387458, 0.00308296,\n",
            "       0.00301457,        nan, 0.00472051, 0.0046118 , 0.0045693 ,\n",
            "              nan, 0.00303171]), 'rank_test_score': array([ 8,  9, 25, 23, 13, 11, 25, 24,  1,  2, 25, 15,  4,  3, 25, 22, 11,\n",
            "       10, 25, 14,  6,  5, 25,  6, 19, 18, 25, 21, 16, 17, 25, 20],\n",
            "      dtype=int32)}\n",
            "TF-IDF Logistic Regression best parameters:  {'estimator__C': 0.1, 'estimator__class_weight': 'balanced', 'estimator__penalty': 'l2', 'estimator__solver': 'lbfgs'}\n"
          ]
        }
      ]
    },
    {
      "cell_type": "markdown",
      "source": [
        "**Decision Tree**"
      ],
      "metadata": {
        "id": "souEvaIHan4S"
      }
    },
    {
      "cell_type": "code",
      "source": [
        "from sklearn.tree import DecisionTreeClassifier\n",
        "grid_DeciTree = {\n",
        "    'max_depth': [5, 10, 20, 25],\n",
        "    'criterion': ['entropy','gini'],\n",
        "    'min_samples_split': [2, 5, 10, 20]\n",
        "}\n",
        "deci_tree = DecisionTreeClassifier(random_state = 42)"
      ],
      "metadata": {
        "id": "C5knoN7DasLt"
      },
      "execution_count": 15,
      "outputs": []
    },
    {
      "cell_type": "code",
      "source": [
        "# BOW or count vector\n",
        "deci_tree_grid_search_BOW = GridSearchCV(deci_tree, param_grid = grid_DeciTree, cv = 10)\n",
        "deci_tree_grid_search_BOW.fit(X_Train_BOW, y_train)\n",
        "BOW_Result['DecisionTree'] = deci_tree_grid_search_BOW.best_score_\n",
        "\n",
        "print(\"BOW Decision Tree best score: \",deci_tree_grid_search_BOW.best_score_)\n",
        "print(\"BOW Decision Tree cross validation result: \",deci_tree_grid_search_BOW.cv_results_)\n",
        "print(\"BOW Decision Tree best parameters: \",deci_tree_grid_search_BOW.best_params_)"
      ],
      "metadata": {
        "colab": {
          "base_uri": "https://localhost:8080/"
        },
        "id": "1fHLHgHkhoR-",
        "outputId": "68cd52af-b75a-47bb-8893-f55899384bc4"
      },
      "execution_count": 16,
      "outputs": [
        {
          "output_type": "stream",
          "name": "stdout",
          "text": [
            "BOW Decision Tree best score:  0.20723456790123457\n",
            "BOW Decision Tree cross validation result:  {'mean_fit_time': array([0.29873879, 0.294753  , 0.29176328, 0.40531924, 0.85380569,\n",
            "       0.92267289, 0.88076861, 0.76682365, 3.43462446, 2.96427035,\n",
            "       2.71063855, 2.55995347, 5.05275784, 4.55777457, 3.99875698,\n",
            "       3.56357317, 0.32976179, 0.23964171, 0.23879452, 0.23099415,\n",
            "       0.77964864, 0.63448868, 0.73300416, 0.58638351, 2.37934008,\n",
            "       2.19507933, 1.92973952, 1.7767652 , 3.49353609, 3.17403204,\n",
            "       2.76626499, 2.5281419 ]), 'std_fit_time': array([0.00872463, 0.00538303, 0.00641407, 0.06981042, 0.03357171,\n",
            "       0.18489525, 0.16894201, 0.07495404, 0.58023285, 0.37698255,\n",
            "       0.31599973, 0.35302457, 0.45883752, 0.34228868, 0.42265815,\n",
            "       0.60622783, 0.05273955, 0.01341264, 0.0083897 , 0.00502437,\n",
            "       0.15147874, 0.01369506, 0.1433959 , 0.01522477, 0.32820895,\n",
            "       0.30554479, 0.22903827, 0.2313025 , 0.38996658, 0.39578508,\n",
            "       0.41601924, 0.41949476]), 'mean_score_time': array([0.00522184, 0.0049799 , 0.00499883, 0.00714843, 0.00508742,\n",
            "       0.0055398 , 0.0056263 , 0.00503576, 0.00558197, 0.0057827 ,\n",
            "       0.00573168, 0.00671904, 0.00592544, 0.00615356, 0.0059994 ,\n",
            "       0.00584662, 0.0063468 , 0.00517423, 0.00517261, 0.00491877,\n",
            "       0.00569463, 0.00503161, 0.00562196, 0.00505021, 0.00593541,\n",
            "       0.00576353, 0.00595665, 0.00570793, 0.00583868, 0.00622177,\n",
            "       0.00622399, 0.00552382]), 'std_score_time': array([2.88200808e-04, 4.65929687e-05, 8.78553021e-05, 1.28481554e-03,\n",
            "       2.11295600e-04, 8.46489989e-04, 9.92085900e-04, 6.20954999e-05,\n",
            "       5.79842653e-04, 7.72908041e-04, 7.27139302e-04, 2.03622255e-03,\n",
            "       7.03399489e-04, 1.02611652e-03, 1.24192713e-03, 7.85031549e-04,\n",
            "       9.21301337e-04, 5.01035848e-04, 4.23521549e-04, 6.02861355e-05,\n",
            "       8.55785096e-04, 5.32307535e-05, 8.87853770e-04, 9.20115000e-05,\n",
            "       1.15417145e-03, 7.99010068e-04, 1.08334411e-03, 8.03229672e-04,\n",
            "       8.15538732e-04, 9.19066668e-04, 1.10572991e-03, 5.74616665e-04]), 'param_criterion': masked_array(data=['entropy', 'entropy', 'entropy', 'entropy', 'entropy',\n",
            "                   'entropy', 'entropy', 'entropy', 'entropy', 'entropy',\n",
            "                   'entropy', 'entropy', 'entropy', 'entropy', 'entropy',\n",
            "                   'entropy', 'gini', 'gini', 'gini', 'gini', 'gini',\n",
            "                   'gini', 'gini', 'gini', 'gini', 'gini', 'gini', 'gini',\n",
            "                   'gini', 'gini', 'gini', 'gini'],\n",
            "             mask=[False, False, False, False, False, False, False, False,\n",
            "                   False, False, False, False, False, False, False, False,\n",
            "                   False, False, False, False, False, False, False, False,\n",
            "                   False, False, False, False, False, False, False, False],\n",
            "       fill_value='?',\n",
            "            dtype=object), 'param_max_depth': masked_array(data=[5, 5, 5, 5, 10, 10, 10, 10, 20, 20, 20, 20, 25, 25, 25,\n",
            "                   25, 5, 5, 5, 5, 10, 10, 10, 10, 20, 20, 20, 20, 25, 25,\n",
            "                   25, 25],\n",
            "             mask=[False, False, False, False, False, False, False, False,\n",
            "                   False, False, False, False, False, False, False, False,\n",
            "                   False, False, False, False, False, False, False, False,\n",
            "                   False, False, False, False, False, False, False, False],\n",
            "       fill_value=999999), 'param_min_samples_split': masked_array(data=[2, 5, 10, 20, 2, 5, 10, 20, 2, 5, 10, 20, 2, 5, 10, 20,\n",
            "                   2, 5, 10, 20, 2, 5, 10, 20, 2, 5, 10, 20, 2, 5, 10, 20],\n",
            "             mask=[False, False, False, False, False, False, False, False,\n",
            "                   False, False, False, False, False, False, False, False,\n",
            "                   False, False, False, False, False, False, False, False,\n",
            "                   False, False, False, False, False, False, False, False],\n",
            "       fill_value=999999), 'params': [{'criterion': 'entropy', 'max_depth': 5, 'min_samples_split': 2}, {'criterion': 'entropy', 'max_depth': 5, 'min_samples_split': 5}, {'criterion': 'entropy', 'max_depth': 5, 'min_samples_split': 10}, {'criterion': 'entropy', 'max_depth': 5, 'min_samples_split': 20}, {'criterion': 'entropy', 'max_depth': 10, 'min_samples_split': 2}, {'criterion': 'entropy', 'max_depth': 10, 'min_samples_split': 5}, {'criterion': 'entropy', 'max_depth': 10, 'min_samples_split': 10}, {'criterion': 'entropy', 'max_depth': 10, 'min_samples_split': 20}, {'criterion': 'entropy', 'max_depth': 20, 'min_samples_split': 2}, {'criterion': 'entropy', 'max_depth': 20, 'min_samples_split': 5}, {'criterion': 'entropy', 'max_depth': 20, 'min_samples_split': 10}, {'criterion': 'entropy', 'max_depth': 20, 'min_samples_split': 20}, {'criterion': 'entropy', 'max_depth': 25, 'min_samples_split': 2}, {'criterion': 'entropy', 'max_depth': 25, 'min_samples_split': 5}, {'criterion': 'entropy', 'max_depth': 25, 'min_samples_split': 10}, {'criterion': 'entropy', 'max_depth': 25, 'min_samples_split': 20}, {'criterion': 'gini', 'max_depth': 5, 'min_samples_split': 2}, {'criterion': 'gini', 'max_depth': 5, 'min_samples_split': 5}, {'criterion': 'gini', 'max_depth': 5, 'min_samples_split': 10}, {'criterion': 'gini', 'max_depth': 5, 'min_samples_split': 20}, {'criterion': 'gini', 'max_depth': 10, 'min_samples_split': 2}, {'criterion': 'gini', 'max_depth': 10, 'min_samples_split': 5}, {'criterion': 'gini', 'max_depth': 10, 'min_samples_split': 10}, {'criterion': 'gini', 'max_depth': 10, 'min_samples_split': 20}, {'criterion': 'gini', 'max_depth': 20, 'min_samples_split': 2}, {'criterion': 'gini', 'max_depth': 20, 'min_samples_split': 5}, {'criterion': 'gini', 'max_depth': 20, 'min_samples_split': 10}, {'criterion': 'gini', 'max_depth': 20, 'min_samples_split': 20}, {'criterion': 'gini', 'max_depth': 25, 'min_samples_split': 2}, {'criterion': 'gini', 'max_depth': 25, 'min_samples_split': 5}, {'criterion': 'gini', 'max_depth': 25, 'min_samples_split': 10}, {'criterion': 'gini', 'max_depth': 25, 'min_samples_split': 20}], 'split0_test_score': array([0.15654321, 0.15654321, 0.15654321, 0.15654321, 0.17209877,\n",
            "       0.17234568, 0.17234568, 0.17259259, 0.19037037, 0.18938272,\n",
            "       0.19012346, 0.19160494, 0.19481481, 0.19506173, 0.19604938,\n",
            "       0.19802469, 0.15530864, 0.15530864, 0.15530864, 0.15530864,\n",
            "       0.1745679 , 0.17481481, 0.17481481, 0.1745679 , 0.19160494,\n",
            "       0.19234568, 0.19209877, 0.19185185, 0.19654321, 0.19802469,\n",
            "       0.19950617, 0.19851852]), 'split1_test_score': array([0.1562963 , 0.1562963 , 0.1562963 , 0.1562963 , 0.16765432,\n",
            "       0.16740741, 0.16790123, 0.16765432, 0.19358025, 0.19481481,\n",
            "       0.19432099, 0.19654321, 0.19901235, 0.19876543, 0.20123457,\n",
            "       0.20395062, 0.1562963 , 0.1562963 , 0.1562963 , 0.1562963 ,\n",
            "       0.16740741, 0.16740741, 0.16740741, 0.16740741, 0.20024691,\n",
            "       0.19975309, 0.20098765, 0.20148148, 0.20345679, 0.2037037 ,\n",
            "       0.20493827, 0.20518519]), 'split2_test_score': array([0.15259259, 0.15259259, 0.15259259, 0.15259259, 0.17308642,\n",
            "       0.17283951, 0.17283951, 0.17308642, 0.20098765, 0.20197531,\n",
            "       0.20197531, 0.20197531, 0.20962963, 0.21111111, 0.21185185,\n",
            "       0.21283951, 0.15506173, 0.15506173, 0.15506173, 0.15506173,\n",
            "       0.17382716, 0.17432099, 0.1745679 , 0.17481481, 0.19185185,\n",
            "       0.19283951, 0.19283951, 0.19407407, 0.20197531, 0.20123457,\n",
            "       0.20074074, 0.20197531]), 'split3_test_score': array([0.15481481, 0.15481481, 0.15481481, 0.15481481, 0.1708642 ,\n",
            "       0.17061728, 0.17061728, 0.17160494, 0.20444444, 0.20271605,\n",
            "       0.20419753, 0.20617284, 0.20419753, 0.20666667, 0.20493827,\n",
            "       0.20864198, 0.15506173, 0.15506173, 0.15506173, 0.15506173,\n",
            "       0.17209877, 0.17234568, 0.17209877, 0.17234568, 0.1945679 ,\n",
            "       0.19530864, 0.19555556, 0.19679012, 0.20469136, 0.20518519,\n",
            "       0.20444444, 0.20641975]), 'split4_test_score': array([0.1454321 , 0.14567901, 0.14567901, 0.1454321 , 0.16641975,\n",
            "       0.16641975, 0.16641975, 0.16691358, 0.19358025, 0.19283951,\n",
            "       0.19407407, 0.19604938, 0.18938272, 0.18962963, 0.19209877,\n",
            "       0.19506173, 0.14864198, 0.14864198, 0.14864198, 0.14864198,\n",
            "       0.1654321 , 0.16567901, 0.16518519, 0.16617284, 0.18814815,\n",
            "       0.18839506, 0.18790123, 0.18888889, 0.19506173, 0.1945679 ,\n",
            "       0.19506173, 0.19481481]), 'split5_test_score': array([0.15654321, 0.15654321, 0.15654321, 0.15654321, 0.16716049,\n",
            "       0.16765432, 0.16716049, 0.16790123, 0.20197531, 0.20098765,\n",
            "       0.20246914, 0.20419753, 0.20888889, 0.21012346, 0.21160494,\n",
            "       0.21654321, 0.15135802, 0.15135802, 0.15135802, 0.15135802,\n",
            "       0.17530864, 0.17481481, 0.1745679 , 0.17530864, 0.19333333,\n",
            "       0.19481481, 0.19333333, 0.19530864, 0.20222222, 0.20222222,\n",
            "       0.2037037 , 0.20419753]), 'split6_test_score': array([0.15283951, 0.15283951, 0.15308642, 0.15308642, 0.17209877,\n",
            "       0.17185185, 0.17234568, 0.17259259, 0.20074074, 0.19925926,\n",
            "       0.20197531, 0.20320988, 0.20962963, 0.20839506, 0.20987654,\n",
            "       0.21333333, 0.16098765, 0.16098765, 0.16098765, 0.16098765,\n",
            "       0.17876543, 0.17950617, 0.17851852, 0.17876543, 0.20197531,\n",
            "       0.20246914, 0.20320988, 0.20345679, 0.21753086, 0.21753086,\n",
            "       0.2182716 , 0.21901235]), 'split7_test_score': array([0.16444444, 0.16444444, 0.16444444, 0.16444444, 0.1817284 ,\n",
            "       0.1817284 , 0.1817284 , 0.18320988, 0.20395062, 0.20493827,\n",
            "       0.20666667, 0.20938272, 0.2108642 , 0.20888889, 0.21432099,\n",
            "       0.21728395, 0.16049383, 0.16049383, 0.16049383, 0.16049383,\n",
            "       0.18716049, 0.18641975, 0.18691358, 0.18641975, 0.20814815,\n",
            "       0.20790123, 0.20888889, 0.20864198, 0.21753086, 0.21679012,\n",
            "       0.21777778, 0.21777778]), 'split8_test_score': array([0.14765432, 0.14765432, 0.14765432, 0.14765432, 0.16962963,\n",
            "       0.16962963, 0.16987654, 0.17061728, 0.19432099, 0.19333333,\n",
            "       0.19580247, 0.19753086, 0.19950617, 0.20024691, 0.20345679,\n",
            "       0.20469136, 0.15481481, 0.15481481, 0.15481481, 0.15481481,\n",
            "       0.17160494, 0.17185185, 0.17185185, 0.17185185, 0.18839506,\n",
            "       0.18864198, 0.1891358 , 0.1891358 , 0.19777778, 0.19925926,\n",
            "       0.19925926, 0.2       ]), 'split9_test_score': array([0.15283951, 0.15283951, 0.15283951, 0.15283951, 0.17555556,\n",
            "       0.17604938, 0.17604938, 0.1762963 , 0.19234568, 0.19333333,\n",
            "       0.19432099, 0.19753086, 0.1962963 , 0.1982716 , 0.19777778,\n",
            "       0.20197531, 0.15481481, 0.1545679 , 0.15481481, 0.15481481,\n",
            "       0.17555556, 0.17580247, 0.17580247, 0.17580247, 0.19530864,\n",
            "       0.19604938, 0.1962963 , 0.19802469, 0.20296296, 0.20246914,\n",
            "       0.20395062, 0.20493827]), 'mean_test_score': array([0.154     , 0.15402469, 0.15404938, 0.15402469, 0.17162963,\n",
            "       0.17165432, 0.1717284 , 0.17224691, 0.19762963, 0.19735802,\n",
            "       0.19859259, 0.20041975, 0.20222222, 0.20271605, 0.20432099,\n",
            "       0.20723457, 0.15528395, 0.15525926, 0.15528395, 0.15528395,\n",
            "       0.17417284, 0.1742963 , 0.17417284, 0.17434568, 0.19535802,\n",
            "       0.19585185, 0.19602469, 0.19676543, 0.20397531, 0.20409877,\n",
            "       0.20476543, 0.20528395]), 'std_test_score': array([0.00496296, 0.00492071, 0.00491532, 0.00495774, 0.00432973,\n",
            "       0.00435129, 0.00434771, 0.00457184, 0.00500596, 0.00497155,\n",
            "       0.00520519, 0.00516168, 0.00710837, 0.00694701, 0.00715474,\n",
            "       0.00732218, 0.00347517, 0.00347929, 0.00347517, 0.00347517,\n",
            "       0.00571241, 0.00555358, 0.00566418, 0.00542025, 0.00602368,\n",
            "       0.00578411, 0.00623128, 0.00602838, 0.00741271, 0.00712995,\n",
            "       0.00722495, 0.00735802]), 'rank_test_score': array([32, 30, 29, 30, 24, 23, 22, 21, 11, 12, 10,  9,  8,  7,  4,  1, 25,\n",
            "       28, 25, 25, 19, 18, 19, 17, 16, 15, 14, 13,  6,  5,  3,  2],\n",
            "      dtype=int32)}\n",
            "BOW Decision Tree best parameters:  {'criterion': 'entropy', 'max_depth': 25, 'min_samples_split': 20}\n"
          ]
        }
      ]
    },
    {
      "cell_type": "code",
      "source": [
        "# TF-IDF vector\n",
        "deci_tree_grid_search_TFIDF = GridSearchCV(deci_tree, param_grid = grid_DeciTree, cv = 10)\n",
        "deci_tree_grid_search_TFIDF.fit(X_Train_TF_IDF, y_train)\n",
        "TFIDF_Result['DecisionTree'] = deci_tree_grid_search_TFIDF.best_score_\n",
        "\n",
        "print(\"TF-IDF Decision Tree best score: \", deci_tree_grid_search_TFIDF.best_score_)\n",
        "print(\"TF-IDF Decision Tree cross validation result: \", deci_tree_grid_search_TFIDF.cv_results_)\n",
        "print(\"TF-IDF Decision Tree best parameters: \", deci_tree_grid_search_TFIDF.best_params_)"
      ],
      "metadata": {
        "colab": {
          "base_uri": "https://localhost:8080/"
        },
        "id": "R_WCoq0ghrYU",
        "outputId": "3b96b429-84b2-481c-e90d-4e1b4695fa1b"
      },
      "execution_count": 17,
      "outputs": [
        {
          "output_type": "stream",
          "name": "stdout",
          "text": [
            "TF-IDF Decision Tree best score:  0.1977530864197531\n",
            "TF-IDF Decision Tree cross validation result:  {'mean_fit_time': array([0.88741236, 0.99216528, 0.98577394, 0.85083787, 2.02376091,\n",
            "       1.89182823, 2.01164234, 1.99660709, 4.41790824, 4.35232351,\n",
            "       4.1926599 , 4.03599274, 5.92137542, 5.62781765, 5.85170968,\n",
            "       7.61386557, 0.38668578, 0.54044139, 0.50547664, 0.38190141,\n",
            "       1.27996824, 1.0289422 , 0.80072389, 0.88914583, 2.20451157,\n",
            "       2.04864554, 2.32074366, 1.92384369, 2.9368969 , 2.78274295,\n",
            "       2.66828434, 2.55310435]), 'std_fit_time': array([0.10160227, 0.19882363, 0.20038407, 0.00884889, 0.32216713,\n",
            "       0.28161153, 0.38041595, 0.38340562, 0.32633426, 0.5472809 ,\n",
            "       0.43173169, 0.50460484, 0.79191055, 0.48536127, 0.80974291,\n",
            "       2.5932081 , 0.01020443, 0.23024805, 0.21486517, 0.00457927,\n",
            "       0.31016193, 0.2854422 , 0.01446413, 0.14880819, 0.3081592 ,\n",
            "       0.24222283, 0.62697139, 0.23004313, 0.45039237, 0.26778805,\n",
            "       0.26181947, 0.34189164]), 'mean_score_time': array([0.00418048, 0.00453484, 0.00446386, 0.00426033, 0.00451467,\n",
            "       0.00454893, 0.00493391, 0.00474274, 0.00555956, 0.00463619,\n",
            "       0.00485761, 0.00476656, 0.00526192, 0.00493977, 0.00532081,\n",
            "       0.00789654, 0.00447469, 0.00686171, 0.00573633, 0.00421987,\n",
            "       0.00936937, 0.00467222, 0.00431509, 0.00460758, 0.00486357,\n",
            "       0.00471804, 0.00522201, 0.00500929, 0.00493813, 0.00489402,\n",
            "       0.00493526, 0.00487363]), 'std_score_time': array([0.000304  , 0.00063665, 0.00065113, 0.00057801, 0.00067731,\n",
            "       0.00130378, 0.00094066, 0.00077753, 0.00148466, 0.00048617,\n",
            "       0.00074769, 0.00066393, 0.0007899 , 0.00068751, 0.00082814,\n",
            "       0.00822785, 0.00060316, 0.00337244, 0.00393982, 0.00051196,\n",
            "       0.00937027, 0.00079268, 0.00053538, 0.00072517, 0.00075282,\n",
            "       0.00068294, 0.00117285, 0.0015627 , 0.00072794, 0.00056432,\n",
            "       0.00066923, 0.00068869]), 'param_criterion': masked_array(data=['entropy', 'entropy', 'entropy', 'entropy', 'entropy',\n",
            "                   'entropy', 'entropy', 'entropy', 'entropy', 'entropy',\n",
            "                   'entropy', 'entropy', 'entropy', 'entropy', 'entropy',\n",
            "                   'entropy', 'gini', 'gini', 'gini', 'gini', 'gini',\n",
            "                   'gini', 'gini', 'gini', 'gini', 'gini', 'gini', 'gini',\n",
            "                   'gini', 'gini', 'gini', 'gini'],\n",
            "             mask=[False, False, False, False, False, False, False, False,\n",
            "                   False, False, False, False, False, False, False, False,\n",
            "                   False, False, False, False, False, False, False, False,\n",
            "                   False, False, False, False, False, False, False, False],\n",
            "       fill_value='?',\n",
            "            dtype=object), 'param_max_depth': masked_array(data=[5, 5, 5, 5, 10, 10, 10, 10, 20, 20, 20, 20, 25, 25, 25,\n",
            "                   25, 5, 5, 5, 5, 10, 10, 10, 10, 20, 20, 20, 20, 25, 25,\n",
            "                   25, 25],\n",
            "             mask=[False, False, False, False, False, False, False, False,\n",
            "                   False, False, False, False, False, False, False, False,\n",
            "                   False, False, False, False, False, False, False, False,\n",
            "                   False, False, False, False, False, False, False, False],\n",
            "       fill_value=999999), 'param_min_samples_split': masked_array(data=[2, 5, 10, 20, 2, 5, 10, 20, 2, 5, 10, 20, 2, 5, 10, 20,\n",
            "                   2, 5, 10, 20, 2, 5, 10, 20, 2, 5, 10, 20, 2, 5, 10, 20],\n",
            "             mask=[False, False, False, False, False, False, False, False,\n",
            "                   False, False, False, False, False, False, False, False,\n",
            "                   False, False, False, False, False, False, False, False,\n",
            "                   False, False, False, False, False, False, False, False],\n",
            "       fill_value=999999), 'params': [{'criterion': 'entropy', 'max_depth': 5, 'min_samples_split': 2}, {'criterion': 'entropy', 'max_depth': 5, 'min_samples_split': 5}, {'criterion': 'entropy', 'max_depth': 5, 'min_samples_split': 10}, {'criterion': 'entropy', 'max_depth': 5, 'min_samples_split': 20}, {'criterion': 'entropy', 'max_depth': 10, 'min_samples_split': 2}, {'criterion': 'entropy', 'max_depth': 10, 'min_samples_split': 5}, {'criterion': 'entropy', 'max_depth': 10, 'min_samples_split': 10}, {'criterion': 'entropy', 'max_depth': 10, 'min_samples_split': 20}, {'criterion': 'entropy', 'max_depth': 20, 'min_samples_split': 2}, {'criterion': 'entropy', 'max_depth': 20, 'min_samples_split': 5}, {'criterion': 'entropy', 'max_depth': 20, 'min_samples_split': 10}, {'criterion': 'entropy', 'max_depth': 20, 'min_samples_split': 20}, {'criterion': 'entropy', 'max_depth': 25, 'min_samples_split': 2}, {'criterion': 'entropy', 'max_depth': 25, 'min_samples_split': 5}, {'criterion': 'entropy', 'max_depth': 25, 'min_samples_split': 10}, {'criterion': 'entropy', 'max_depth': 25, 'min_samples_split': 20}, {'criterion': 'gini', 'max_depth': 5, 'min_samples_split': 2}, {'criterion': 'gini', 'max_depth': 5, 'min_samples_split': 5}, {'criterion': 'gini', 'max_depth': 5, 'min_samples_split': 10}, {'criterion': 'gini', 'max_depth': 5, 'min_samples_split': 20}, {'criterion': 'gini', 'max_depth': 10, 'min_samples_split': 2}, {'criterion': 'gini', 'max_depth': 10, 'min_samples_split': 5}, {'criterion': 'gini', 'max_depth': 10, 'min_samples_split': 10}, {'criterion': 'gini', 'max_depth': 10, 'min_samples_split': 20}, {'criterion': 'gini', 'max_depth': 20, 'min_samples_split': 2}, {'criterion': 'gini', 'max_depth': 20, 'min_samples_split': 5}, {'criterion': 'gini', 'max_depth': 20, 'min_samples_split': 10}, {'criterion': 'gini', 'max_depth': 20, 'min_samples_split': 20}, {'criterion': 'gini', 'max_depth': 25, 'min_samples_split': 2}, {'criterion': 'gini', 'max_depth': 25, 'min_samples_split': 5}, {'criterion': 'gini', 'max_depth': 25, 'min_samples_split': 10}, {'criterion': 'gini', 'max_depth': 25, 'min_samples_split': 20}], 'split0_test_score': array([0.14839506, 0.14839506, 0.14839506, 0.14839506, 0.16740741,\n",
            "       0.16716049, 0.16790123, 0.16814815, 0.1837037 , 0.18271605,\n",
            "       0.18493827, 0.18419753, 0.18765432, 0.18493827, 0.18814815,\n",
            "       0.18962963, 0.15061728, 0.15061728, 0.15061728, 0.15061728,\n",
            "       0.16864198, 0.16864198, 0.1691358 , 0.16864198, 0.18271605,\n",
            "       0.18296296, 0.1837037 , 0.18395062, 0.18962963, 0.18962963,\n",
            "       0.19012346, 0.18987654]), 'split1_test_score': array([0.15308642, 0.15308642, 0.15308642, 0.15308642, 0.16691358,\n",
            "       0.16740741, 0.16814815, 0.16814815, 0.18098765, 0.18246914,\n",
            "       0.18617284, 0.18790123, 0.18641975, 0.18740741, 0.19061728,\n",
            "       0.19580247, 0.15259259, 0.15259259, 0.15259259, 0.15259259,\n",
            "       0.17234568, 0.17185185, 0.17259259, 0.17308642, 0.19703704,\n",
            "       0.19654321, 0.1982716 , 0.19925926, 0.19308642, 0.19481481,\n",
            "       0.19506173, 0.19679012]), 'split2_test_score': array([0.14617284, 0.14617284, 0.14617284, 0.14641975, 0.16765432,\n",
            "       0.16790123, 0.16716049, 0.16716049, 0.18765432, 0.18888889,\n",
            "       0.19037037, 0.18987654, 0.19975309, 0.2       , 0.20098765,\n",
            "       0.2037037 , 0.1491358 , 0.1491358 , 0.1491358 , 0.1491358 ,\n",
            "       0.1708642 , 0.16987654, 0.16987654, 0.17037037, 0.18765432,\n",
            "       0.18765432, 0.18790123, 0.18765432, 0.19555556, 0.19530864,\n",
            "       0.19481481, 0.19580247]), 'split3_test_score': array([0.15259259, 0.15259259, 0.15259259, 0.15283951, 0.16518519,\n",
            "       0.16592593, 0.16518519, 0.16493827, 0.19037037, 0.19012346,\n",
            "       0.19061728, 0.19209877, 0.1945679 , 0.19308642, 0.19259259,\n",
            "       0.19555556, 0.14938272, 0.14938272, 0.14938272, 0.14938272,\n",
            "       0.16469136, 0.16493827, 0.16419753, 0.16444444, 0.19061728,\n",
            "       0.19012346, 0.1891358 , 0.19061728, 0.20098765, 0.19975309,\n",
            "       0.19975309, 0.20222222]), 'split4_test_score': array([0.14864198, 0.14864198, 0.14864198, 0.14864198, 0.17135802,\n",
            "       0.17135802, 0.17160494, 0.17160494, 0.19037037, 0.19037037,\n",
            "       0.19185185, 0.19358025, 0.18320988, 0.18395062, 0.18839506,\n",
            "       0.19209877, 0.14666667, 0.14666667, 0.14666667, 0.14666667,\n",
            "       0.1637037 , 0.16444444, 0.16395062, 0.16419753, 0.18197531,\n",
            "       0.18320988, 0.18345679, 0.18246914, 0.18814815, 0.18765432,\n",
            "       0.18962963, 0.1891358 ]), 'split5_test_score': array([0.15135802, 0.15135802, 0.15135802, 0.15135802, 0.16271605,\n",
            "       0.1637037 , 0.16271605, 0.16395062, 0.19061728, 0.19061728,\n",
            "       0.1908642 , 0.19358025, 0.19506173, 0.19580247, 0.19753086,\n",
            "       0.20024691, 0.14617284, 0.14617284, 0.14617284, 0.14617284,\n",
            "       0.16716049, 0.16716049, 0.16666667, 0.16716049, 0.1908642 ,\n",
            "       0.19209877, 0.19111111, 0.19185185, 0.19209877, 0.19283951,\n",
            "       0.19135802, 0.19234568]), 'split6_test_score': array([0.1508642 , 0.1508642 , 0.1508642 , 0.1508642 , 0.1745679 ,\n",
            "       0.17481481, 0.17481481, 0.17530864, 0.19209877, 0.19234568,\n",
            "       0.19333333, 0.19530864, 0.1962963 , 0.19604938, 0.19728395,\n",
            "       0.20197531, 0.15604938, 0.15604938, 0.15604938, 0.15604938,\n",
            "       0.1745679 , 0.17481481, 0.17432099, 0.17530864, 0.19432099,\n",
            "       0.19580247, 0.1945679 , 0.19703704, 0.20222222, 0.20246914,\n",
            "       0.20271605, 0.20493827]), 'split7_test_score': array([0.1582716 , 0.1582716 , 0.1582716 , 0.1582716 , 0.18197531,\n",
            "       0.18246914, 0.18246914, 0.18345679, 0.19728395, 0.19802469,\n",
            "       0.19950617, 0.20246914, 0.2017284 , 0.20222222, 0.20419753,\n",
            "       0.2091358 , 0.15802469, 0.15802469, 0.15802469, 0.15802469,\n",
            "       0.1817284 , 0.18123457, 0.18123457, 0.18197531, 0.20493827,\n",
            "       0.20666667, 0.2054321 , 0.20592593, 0.20790123, 0.21111111,\n",
            "       0.20987654, 0.21209877]), 'split8_test_score': array([0.14962963, 0.14962963, 0.14962963, 0.14962963, 0.16641975,\n",
            "       0.16617284, 0.16666667, 0.16716049, 0.18518519, 0.18395062,\n",
            "       0.18592593, 0.18839506, 0.19259259, 0.1945679 , 0.19753086,\n",
            "       0.19975309, 0.15037037, 0.15037037, 0.15037037, 0.15037037,\n",
            "       0.16691358, 0.16691358, 0.16716049, 0.16765432, 0.18098765,\n",
            "       0.18024691, 0.18049383, 0.18123457, 0.18444444, 0.18493827,\n",
            "       0.18518519, 0.18493827]), 'split9_test_score': array([0.15209877, 0.15209877, 0.15209877, 0.15209877, 0.16716049,\n",
            "       0.16716049, 0.16765432, 0.16691358, 0.18246914, 0.18271605,\n",
            "       0.1854321 , 0.18419753, 0.18765432, 0.18888889, 0.19061728,\n",
            "       0.18962963, 0.14938272, 0.14938272, 0.14938272, 0.14938272,\n",
            "       0.17283951, 0.17382716, 0.17283951, 0.17283951, 0.19407407,\n",
            "       0.19530864, 0.19481481, 0.19604938, 0.19925926, 0.19975309,\n",
            "       0.19851852, 0.2       ]), 'mean_test_score': array([0.15111111, 0.15111111, 0.15111111, 0.15116049, 0.1691358 ,\n",
            "       0.16940741, 0.1694321 , 0.16967901, 0.18807407, 0.18822222,\n",
            "       0.18990123, 0.19116049, 0.19249383, 0.19269136, 0.19479012,\n",
            "       0.19775309, 0.15083951, 0.15083951, 0.15083951, 0.15083951,\n",
            "       0.17034568, 0.17037037, 0.17019753, 0.1705679 , 0.19051852,\n",
            "       0.19106173, 0.19088889, 0.19160494, 0.19533333, 0.19582716,\n",
            "       0.1957037 , 0.19681481]), 'std_test_score': array([0.00313881, 0.00313881, 0.00313881, 0.00311307, 0.005268  ,\n",
            "       0.00524533, 0.00535501, 0.00552756, 0.00476748, 0.00489369,\n",
            "       0.00428728, 0.00523992, 0.00577292, 0.00589726, 0.0052232 ,\n",
            "       0.00604656, 0.00358399, 0.00358399, 0.00358399, 0.00358399,\n",
            "       0.0050872 , 0.00491972, 0.0049948 , 0.00515783, 0.00714532,\n",
            "       0.00756201, 0.00722445, 0.00761039, 0.00686353, 0.00736568,\n",
            "       0.00687839, 0.00779829]), 'rank_test_score': array([26, 26, 26, 25, 24, 23, 22, 21, 16, 15, 14, 10,  8,  7,  6,  1, 29,\n",
            "       29, 29, 29, 19, 18, 20, 17, 13, 11, 12,  9,  5,  3,  4,  2],\n",
            "      dtype=int32)}\n",
            "TF-IDF Decision Tree best parameters:  {'criterion': 'entropy', 'max_depth': 25, 'min_samples_split': 20}\n"
          ]
        }
      ]
    },
    {
      "cell_type": "markdown",
      "source": [
        "**Stochastic Gradient Descent classifier - SGD**"
      ],
      "metadata": {
        "id": "PexImOZqiKKq"
      }
    },
    {
      "cell_type": "code",
      "source": [
        "from sklearn.linear_model import SGDClassifier\n",
        "\n",
        "grid_SGD = {\n",
        "    'penalty' : ['l2', 'l1'],\n",
        "    'max_iter' : [25, 50, 75, 100, 150],\n",
        "    'loss' : ['log', 'hinge']\n",
        "}\n",
        "SGD = SGDClassifier(random_state = 42)\n"
      ],
      "metadata": {
        "id": "m21P5C53iQJ6"
      },
      "execution_count": 18,
      "outputs": []
    },
    {
      "cell_type": "code",
      "source": [
        "# BOW or count vector\n",
        "SGD_grid_search_BOW = GridSearchCV(SGD, param_grid = grid_SGD, cv = 20)\n",
        "with warnings.catch_warnings(record=True) as w:\n",
        "    warnings.simplefilter(\"ignore\")\n",
        "    SGD_grid_search_BOW.fit(X_Train_BOW, y_train)\n",
        "\n",
        "BOW_Result['SGD'] = SGD_grid_search_BOW.best_score_\n",
        "\n",
        "print(\"BOW SGD best score: \",SGD_grid_search_BOW.best_score_)\n",
        "print(\"BOW SGD cross validation result: \",SGD_grid_search_BOW.cv_results_)\n",
        "print(\"BOW SGD best parameters: \",SGD_grid_search_BOW.best_params_)"
      ],
      "metadata": {
        "id": "sHC-eHPKihNL",
        "colab": {
          "base_uri": "https://localhost:8080/"
        },
        "outputId": "b43b163b-c8a9-4a4f-b176-144b64786f2b"
      },
      "execution_count": 19,
      "outputs": [
        {
          "output_type": "stream",
          "name": "stdout",
          "text": [
            "BOW SGD best score:  0.290716049382716\n",
            "BOW SGD cross validation result:  {'mean_fit_time': array([0.00484663, 0.00513387, 0.00499233, 0.00355111, 0.00426537,\n",
            "       0.00414882, 0.00391514, 0.00349329, 0.00361311, 0.00353104,\n",
            "       2.39477619, 3.32675765, 2.46610518, 3.30732602, 2.49299254,\n",
            "       3.32896196, 2.56333047, 3.3408061 , 2.40586077, 3.42025999]), 'std_fit_time': array([3.33655109e-04, 6.64660243e-04, 3.80858104e-04, 1.82089971e-04,\n",
            "       3.85092342e-04, 3.24270658e-04, 3.70998677e-04, 1.56740568e-04,\n",
            "       1.88525103e-04, 4.02564231e-04, 4.11679228e-01, 3.96395974e-01,\n",
            "       3.66890190e-01, 4.77885408e-01, 3.94944109e-01, 5.03996655e-01,\n",
            "       4.24667484e-01, 4.15368915e-01, 3.28884855e-01, 5.71763526e-01]), 'mean_score_time': array([0.        , 0.        , 0.        , 0.        , 0.        ,\n",
            "       0.        , 0.        , 0.        , 0.        , 0.        ,\n",
            "       0.00334092, 0.00357299, 0.0032395 , 0.00342662, 0.00334176,\n",
            "       0.00355923, 0.00329239, 0.0033185 , 0.00328264, 0.00316951]), 'std_score_time': array([0.        , 0.        , 0.        , 0.        , 0.        ,\n",
            "       0.        , 0.        , 0.        , 0.        , 0.        ,\n",
            "       0.00068652, 0.00125958, 0.00056347, 0.00066731, 0.00054508,\n",
            "       0.00098457, 0.00062138, 0.00066742, 0.00081076, 0.00048833]), 'param_loss': masked_array(data=['log', 'log', 'log', 'log', 'log', 'log', 'log', 'log',\n",
            "                   'log', 'log', 'hinge', 'hinge', 'hinge', 'hinge',\n",
            "                   'hinge', 'hinge', 'hinge', 'hinge', 'hinge', 'hinge'],\n",
            "             mask=[False, False, False, False, False, False, False, False,\n",
            "                   False, False, False, False, False, False, False, False,\n",
            "                   False, False, False, False],\n",
            "       fill_value='?',\n",
            "            dtype=object), 'param_max_iter': masked_array(data=[25, 25, 50, 50, 75, 75, 100, 100, 150, 150, 25, 25, 50,\n",
            "                   50, 75, 75, 100, 100, 150, 150],\n",
            "             mask=[False, False, False, False, False, False, False, False,\n",
            "                   False, False, False, False, False, False, False, False,\n",
            "                   False, False, False, False],\n",
            "       fill_value=999999), 'param_penalty': masked_array(data=['l2', 'l1', 'l2', 'l1', 'l2', 'l1', 'l2', 'l1', 'l2',\n",
            "                   'l1', 'l2', 'l1', 'l2', 'l1', 'l2', 'l1', 'l2', 'l1',\n",
            "                   'l2', 'l1'],\n",
            "             mask=[False, False, False, False, False, False, False, False,\n",
            "                   False, False, False, False, False, False, False, False,\n",
            "                   False, False, False, False],\n",
            "       fill_value='?',\n",
            "            dtype=object), 'params': [{'loss': 'log', 'max_iter': 25, 'penalty': 'l2'}, {'loss': 'log', 'max_iter': 25, 'penalty': 'l1'}, {'loss': 'log', 'max_iter': 50, 'penalty': 'l2'}, {'loss': 'log', 'max_iter': 50, 'penalty': 'l1'}, {'loss': 'log', 'max_iter': 75, 'penalty': 'l2'}, {'loss': 'log', 'max_iter': 75, 'penalty': 'l1'}, {'loss': 'log', 'max_iter': 100, 'penalty': 'l2'}, {'loss': 'log', 'max_iter': 100, 'penalty': 'l1'}, {'loss': 'log', 'max_iter': 150, 'penalty': 'l2'}, {'loss': 'log', 'max_iter': 150, 'penalty': 'l1'}, {'loss': 'hinge', 'max_iter': 25, 'penalty': 'l2'}, {'loss': 'hinge', 'max_iter': 25, 'penalty': 'l1'}, {'loss': 'hinge', 'max_iter': 50, 'penalty': 'l2'}, {'loss': 'hinge', 'max_iter': 50, 'penalty': 'l1'}, {'loss': 'hinge', 'max_iter': 75, 'penalty': 'l2'}, {'loss': 'hinge', 'max_iter': 75, 'penalty': 'l1'}, {'loss': 'hinge', 'max_iter': 100, 'penalty': 'l2'}, {'loss': 'hinge', 'max_iter': 100, 'penalty': 'l1'}, {'loss': 'hinge', 'max_iter': 150, 'penalty': 'l2'}, {'loss': 'hinge', 'max_iter': 150, 'penalty': 'l1'}], 'split0_test_score': array([       nan,        nan,        nan,        nan,        nan,\n",
            "              nan,        nan,        nan,        nan,        nan,\n",
            "       0.2854321 , 0.27753086, 0.27950617, 0.27654321, 0.27950617,\n",
            "       0.27654321, 0.27950617, 0.27654321, 0.27950617, 0.27654321]), 'split1_test_score': array([       nan,        nan,        nan,        nan,        nan,\n",
            "              nan,        nan,        nan,        nan,        nan,\n",
            "       0.26617284, 0.29234568, 0.26271605, 0.28987654, 0.26271605,\n",
            "       0.28987654, 0.26271605, 0.28987654, 0.26271605, 0.28987654]), 'split2_test_score': array([       nan,        nan,        nan,        nan,        nan,\n",
            "              nan,        nan,        nan,        nan,        nan,\n",
            "       0.28049383, 0.2982716 , 0.28098765, 0.30222222, 0.28098765,\n",
            "       0.30222222, 0.28098765, 0.30222222, 0.28098765, 0.30222222]), 'split3_test_score': array([       nan,        nan,        nan,        nan,        nan,\n",
            "              nan,        nan,        nan,        nan,        nan,\n",
            "       0.2691358 , 0.28296296, 0.27209877, 0.28296296, 0.27209877,\n",
            "       0.28296296, 0.27209877, 0.28296296, 0.27209877, 0.28296296]), 'split4_test_score': array([       nan,        nan,        nan,        nan,        nan,\n",
            "              nan,        nan,        nan,        nan,        nan,\n",
            "       0.29234568, 0.31111111, 0.29530864, 0.31111111, 0.29530864,\n",
            "       0.31111111, 0.29530864, 0.31111111, 0.29530864, 0.31111111]), 'split5_test_score': array([       nan,        nan,        nan,        nan,        nan,\n",
            "              nan,        nan,        nan,        nan,        nan,\n",
            "       0.28197531, 0.28395062, 0.28641975, 0.28148148, 0.28641975,\n",
            "       0.28148148, 0.28641975, 0.28148148, 0.28641975, 0.28148148]), 'split6_test_score': array([       nan,        nan,        nan,        nan,        nan,\n",
            "              nan,        nan,        nan,        nan,        nan,\n",
            "       0.29185185, 0.29432099, 0.28246914, 0.29432099, 0.28246914,\n",
            "       0.29432099, 0.28246914, 0.29432099, 0.28246914, 0.29432099]), 'split7_test_score': array([       nan,        nan,        nan,        nan,        nan,\n",
            "              nan,        nan,        nan,        nan,        nan,\n",
            "       0.27111111, 0.2962963 , 0.27703704, 0.2962963 , 0.27703704,\n",
            "       0.2962963 , 0.27703704, 0.2962963 , 0.27703704, 0.2962963 ]), 'split8_test_score': array([       nan,        nan,        nan,        nan,        nan,\n",
            "              nan,        nan,        nan,        nan,        nan,\n",
            "       0.26617284, 0.27950617, 0.26123457, 0.28148148, 0.26123457,\n",
            "       0.28148148, 0.26123457, 0.28148148, 0.26123457, 0.28148148]), 'split9_test_score': array([       nan,        nan,        nan,        nan,        nan,\n",
            "              nan,        nan,        nan,        nan,        nan,\n",
            "       0.27358025, 0.29432099, 0.27407407, 0.29037037, 0.27407407,\n",
            "       0.29037037, 0.27407407, 0.29037037, 0.27407407, 0.29037037]), 'split10_test_score': array([       nan,        nan,        nan,        nan,        nan,\n",
            "              nan,        nan,        nan,        nan,        nan,\n",
            "       0.28839506, 0.30567901, 0.28641975, 0.31012346, 0.28641975,\n",
            "       0.31012346, 0.28641975, 0.31012346, 0.28641975, 0.31012346]), 'split11_test_score': array([       nan,        nan,        nan,        nan,        nan,\n",
            "              nan,        nan,        nan,        nan,        nan,\n",
            "       0.27604938, 0.28345679, 0.27753086, 0.28345679, 0.27753086,\n",
            "       0.28345679, 0.27753086, 0.28345679, 0.27753086, 0.28345679]), 'split12_test_score': array([       nan,        nan,        nan,        nan,        nan,\n",
            "              nan,        nan,        nan,        nan,        nan,\n",
            "       0.26469136, 0.28049383, 0.26123457, 0.28049383, 0.26123457,\n",
            "       0.28049383, 0.26123457, 0.28049383, 0.26123457, 0.28049383]), 'split13_test_score': array([       nan,        nan,        nan,        nan,        nan,\n",
            "              nan,        nan,        nan,        nan,        nan,\n",
            "       0.28444444, 0.30469136, 0.28098765, 0.30469136, 0.28098765,\n",
            "       0.30469136, 0.28098765, 0.30469136, 0.28098765, 0.30469136]), 'split14_test_score': array([       nan,        nan,        nan,        nan,        nan,\n",
            "              nan,        nan,        nan,        nan,        nan,\n",
            "       0.25432099, 0.30518519, 0.26024691, 0.30518519, 0.26024691,\n",
            "       0.30518519, 0.26024691, 0.30518519, 0.26024691, 0.30518519]), 'split15_test_score': array([       nan,        nan,        nan,        nan,        nan,\n",
            "              nan,        nan,        nan,        nan,        nan,\n",
            "       0.26716049, 0.27851852, 0.2637037 , 0.27851852, 0.2637037 ,\n",
            "       0.27851852, 0.2637037 , 0.27851852, 0.2637037 , 0.27851852]), 'split16_test_score': array([       nan,        nan,        nan,        nan,        nan,\n",
            "              nan,        nan,        nan,        nan,        nan,\n",
            "       0.27901235, 0.28938272, 0.28049383, 0.28938272, 0.28049383,\n",
            "       0.28938272, 0.28049383, 0.28938272, 0.28049383, 0.28938272]), 'split17_test_score': array([       nan,        nan,        nan,        nan,        nan,\n",
            "              nan,        nan,        nan,        nan,        nan,\n",
            "       0.27012346, 0.26666667, 0.26617284, 0.26814815, 0.26617284,\n",
            "       0.26814815, 0.26617284, 0.26814815, 0.26617284, 0.26814815]), 'split18_test_score': array([       nan,        nan,        nan,        nan,        nan,\n",
            "              nan,        nan,        nan,        nan,        nan,\n",
            "       0.28049383, 0.28246914, 0.27555556, 0.28246914, 0.27555556,\n",
            "       0.28246914, 0.27555556, 0.28246914, 0.27555556, 0.28246914]), 'split19_test_score': array([       nan,        nan,        nan,        nan,        nan,\n",
            "              nan,        nan,        nan,        nan,        nan,\n",
            "       0.26666667, 0.30518519, 0.26765432, 0.30518519, 0.26765432,\n",
            "       0.30518519, 0.26765432, 0.30518519, 0.26765432, 0.30518519]), 'mean_test_score': array([       nan,        nan,        nan,        nan,        nan,\n",
            "              nan,        nan,        nan,        nan,        nan,\n",
            "       0.27548148, 0.29061728, 0.27459259, 0.29071605, 0.27459259,\n",
            "       0.29071605, 0.27459259, 0.29071605, 0.27459259, 0.29071605]), 'std_test_score': array([       nan,        nan,        nan,        nan,        nan,\n",
            "              nan,        nan,        nan,        nan,        nan,\n",
            "       0.00994945, 0.01168347, 0.00968263, 0.0120428 , 0.00968263,\n",
            "       0.0120428 , 0.00968263, 0.0120428 , 0.00968263, 0.0120428 ]), 'rank_test_score': array([11, 11, 11, 11, 11, 11, 11, 11, 11, 11,  6,  5,  7,  1,  7,  1,  7,\n",
            "        1,  7,  1], dtype=int32)}\n",
            "BOW SGD best parameters:  {'loss': 'hinge', 'max_iter': 50, 'penalty': 'l1'}\n"
          ]
        }
      ]
    },
    {
      "cell_type": "code",
      "source": [
        "# TF-IDF vector\n",
        "SGD_grid_search_TFIDF = GridSearchCV(SGD, param_grid = grid_SGD, cv = 20)\n",
        "with warnings.catch_warnings(record=True) as w:\n",
        "    warnings.simplefilter(\"ignore\")\n",
        "    SGD_grid_search_TFIDF.fit(X_Train_TF_IDF, y_train)\n",
        "\n",
        "TFIDF_Result['SGD'] = SGD_grid_search_TFIDF.best_score_\n",
        "\n",
        "print(\"TF-IDF SGD best score: \",SGD_grid_search_TFIDF.best_score_)\n",
        "print(\"TF-IDF SGD cross validation result: \",SGD_grid_search_TFIDF.cv_results_)\n",
        "print(\"TF-IDF SGD best parameters: \",SGD_grid_search_TFIDF.best_params_)"
      ],
      "metadata": {
        "id": "ZYhs7iqDiiVu",
        "colab": {
          "base_uri": "https://localhost:8080/"
        },
        "outputId": "0c26b4dd-191c-431b-cbfd-37996235d7fe"
      },
      "execution_count": 20,
      "outputs": [
        {
          "output_type": "stream",
          "name": "stdout",
          "text": [
            "TF-IDF SGD best score:  0.30933333333333335\n",
            "TF-IDF SGD cross validation result:  {'mean_fit_time': array([0.00282602, 0.00350467, 0.00262953, 0.00270811, 0.00279057,\n",
            "       0.00267006, 0.00299152, 0.00258651, 0.00242467, 0.00252135,\n",
            "       0.44994963, 0.57575314, 0.51131521, 0.5615618 , 0.49618359,\n",
            "       0.54283856, 0.50832868, 0.57305741, 0.51702062, 0.56857666]), 'std_fit_time': array([5.46334931e-04, 5.60374026e-04, 8.61182454e-05, 3.04430458e-04,\n",
            "       4.03758802e-04, 3.16304372e-04, 4.32052761e-04, 8.72670430e-05,\n",
            "       5.64657850e-05, 6.17166698e-05, 1.78872057e-02, 9.72935240e-02,\n",
            "       1.05690016e-01, 1.21214701e-01, 1.04917859e-01, 5.77116343e-02,\n",
            "       1.10330964e-01, 1.17644927e-01, 1.10227456e-01, 1.20906354e-01]), 'mean_score_time': array([0.        , 0.        , 0.        , 0.        , 0.        ,\n",
            "       0.        , 0.        , 0.        , 0.        , 0.        ,\n",
            "       0.00213532, 0.00225509, 0.00233451, 0.00232793, 0.00222412,\n",
            "       0.00214558, 0.0023716 , 0.00236641, 0.00225548, 0.00239928]), 'std_score_time': array([0.        , 0.        , 0.        , 0.        , 0.        ,\n",
            "       0.        , 0.        , 0.        , 0.        , 0.        ,\n",
            "       0.00025645, 0.00045281, 0.00040941, 0.0007087 , 0.00037437,\n",
            "       0.00029531, 0.00045212, 0.00045751, 0.0003396 , 0.00111455]), 'param_loss': masked_array(data=['log', 'log', 'log', 'log', 'log', 'log', 'log', 'log',\n",
            "                   'log', 'log', 'hinge', 'hinge', 'hinge', 'hinge',\n",
            "                   'hinge', 'hinge', 'hinge', 'hinge', 'hinge', 'hinge'],\n",
            "             mask=[False, False, False, False, False, False, False, False,\n",
            "                   False, False, False, False, False, False, False, False,\n",
            "                   False, False, False, False],\n",
            "       fill_value='?',\n",
            "            dtype=object), 'param_max_iter': masked_array(data=[25, 25, 50, 50, 75, 75, 100, 100, 150, 150, 25, 25, 50,\n",
            "                   50, 75, 75, 100, 100, 150, 150],\n",
            "             mask=[False, False, False, False, False, False, False, False,\n",
            "                   False, False, False, False, False, False, False, False,\n",
            "                   False, False, False, False],\n",
            "       fill_value=999999), 'param_penalty': masked_array(data=['l2', 'l1', 'l2', 'l1', 'l2', 'l1', 'l2', 'l1', 'l2',\n",
            "                   'l1', 'l2', 'l1', 'l2', 'l1', 'l2', 'l1', 'l2', 'l1',\n",
            "                   'l2', 'l1'],\n",
            "             mask=[False, False, False, False, False, False, False, False,\n",
            "                   False, False, False, False, False, False, False, False,\n",
            "                   False, False, False, False],\n",
            "       fill_value='?',\n",
            "            dtype=object), 'params': [{'loss': 'log', 'max_iter': 25, 'penalty': 'l2'}, {'loss': 'log', 'max_iter': 25, 'penalty': 'l1'}, {'loss': 'log', 'max_iter': 50, 'penalty': 'l2'}, {'loss': 'log', 'max_iter': 50, 'penalty': 'l1'}, {'loss': 'log', 'max_iter': 75, 'penalty': 'l2'}, {'loss': 'log', 'max_iter': 75, 'penalty': 'l1'}, {'loss': 'log', 'max_iter': 100, 'penalty': 'l2'}, {'loss': 'log', 'max_iter': 100, 'penalty': 'l1'}, {'loss': 'log', 'max_iter': 150, 'penalty': 'l2'}, {'loss': 'log', 'max_iter': 150, 'penalty': 'l1'}, {'loss': 'hinge', 'max_iter': 25, 'penalty': 'l2'}, {'loss': 'hinge', 'max_iter': 25, 'penalty': 'l1'}, {'loss': 'hinge', 'max_iter': 50, 'penalty': 'l2'}, {'loss': 'hinge', 'max_iter': 50, 'penalty': 'l1'}, {'loss': 'hinge', 'max_iter': 75, 'penalty': 'l2'}, {'loss': 'hinge', 'max_iter': 75, 'penalty': 'l1'}, {'loss': 'hinge', 'max_iter': 100, 'penalty': 'l2'}, {'loss': 'hinge', 'max_iter': 100, 'penalty': 'l1'}, {'loss': 'hinge', 'max_iter': 150, 'penalty': 'l2'}, {'loss': 'hinge', 'max_iter': 150, 'penalty': 'l1'}], 'split0_test_score': array([       nan,        nan,        nan,        nan,        nan,\n",
            "              nan,        nan,        nan,        nan,        nan,\n",
            "       0.3017284 , 0.22469136, 0.3017284 , 0.22469136, 0.3017284 ,\n",
            "       0.22469136, 0.3017284 , 0.22469136, 0.3017284 , 0.22469136]), 'split1_test_score': array([       nan,        nan,        nan,        nan,        nan,\n",
            "              nan,        nan,        nan,        nan,        nan,\n",
            "       0.31654321, 0.22320988, 0.31654321, 0.22320988, 0.31654321,\n",
            "       0.22320988, 0.31654321, 0.22320988, 0.31654321, 0.22320988]), 'split2_test_score': array([       nan,        nan,        nan,        nan,        nan,\n",
            "              nan,        nan,        nan,        nan,        nan,\n",
            "       0.31506173, 0.21777778, 0.31506173, 0.21777778, 0.31506173,\n",
            "       0.21777778, 0.31506173, 0.21777778, 0.31506173, 0.21777778]), 'split3_test_score': array([       nan,        nan,        nan,        nan,        nan,\n",
            "              nan,        nan,        nan,        nan,        nan,\n",
            "       0.31209877, 0.24493827, 0.31209877, 0.24493827, 0.31209877,\n",
            "       0.24493827, 0.31209877, 0.24493827, 0.31209877, 0.24493827]), 'split4_test_score': array([       nan,        nan,        nan,        nan,        nan,\n",
            "              nan,        nan,        nan,        nan,        nan,\n",
            "       0.32641975, 0.26123457, 0.32641975, 0.26123457, 0.32641975,\n",
            "       0.26123457, 0.32641975, 0.26123457, 0.32641975, 0.26123457]), 'split5_test_score': array([       nan,        nan,        nan,        nan,        nan,\n",
            "              nan,        nan,        nan,        nan,        nan,\n",
            "       0.30864198, 0.23555556, 0.30864198, 0.23555556, 0.30864198,\n",
            "       0.23555556, 0.30864198, 0.23555556, 0.30864198, 0.23555556]), 'split6_test_score': array([       nan,        nan,        nan,        nan,        nan,\n",
            "              nan,        nan,        nan,        nan,        nan,\n",
            "       0.3145679 , 0.24790123, 0.3145679 , 0.24790123, 0.3145679 ,\n",
            "       0.24790123, 0.3145679 , 0.24790123, 0.3145679 , 0.24790123]), 'split7_test_score': array([       nan,        nan,        nan,        nan,        nan,\n",
            "              nan,        nan,        nan,        nan,        nan,\n",
            "       0.30716049, 0.23061728, 0.30716049, 0.23061728, 0.30716049,\n",
            "       0.23061728, 0.30716049, 0.23061728, 0.30716049, 0.23061728]), 'split8_test_score': array([       nan,        nan,        nan,        nan,        nan,\n",
            "              nan,        nan,        nan,        nan,        nan,\n",
            "       0.30814815, 0.21432099, 0.30814815, 0.21432099, 0.30814815,\n",
            "       0.21432099, 0.30814815, 0.21432099, 0.30814815, 0.21432099]), 'split9_test_score': array([       nan,        nan,        nan,        nan,        nan,\n",
            "              nan,        nan,        nan,        nan,        nan,\n",
            "       0.29975309, 0.22617284, 0.29975309, 0.22617284, 0.29975309,\n",
            "       0.22617284, 0.29975309, 0.22617284, 0.29975309, 0.22617284]), 'split10_test_score': array([       nan,        nan,        nan,        nan,        nan,\n",
            "              nan,        nan,        nan,        nan,        nan,\n",
            "       0.31259259, 0.23308642, 0.31259259, 0.23308642, 0.31259259,\n",
            "       0.23308642, 0.31259259, 0.23308642, 0.31259259, 0.23308642]), 'split11_test_score': array([       nan,        nan,        nan,        nan,        nan,\n",
            "              nan,        nan,        nan,        nan,        nan,\n",
            "       0.30617284, 0.23851852, 0.30617284, 0.23851852, 0.30617284,\n",
            "       0.23851852, 0.30617284, 0.23851852, 0.30617284, 0.23851852]), 'split12_test_score': array([       nan,        nan,        nan,        nan,        nan,\n",
            "              nan,        nan,        nan,        nan,        nan,\n",
            "       0.30617284, 0.25777778, 0.30617284, 0.25777778, 0.30617284,\n",
            "       0.25777778, 0.30617284, 0.25777778, 0.30617284, 0.25777778]), 'split13_test_score': array([       nan,        nan,        nan,        nan,        nan,\n",
            "              nan,        nan,        nan,        nan,        nan,\n",
            "       0.3091358 , 0.24296296, 0.3091358 , 0.24296296, 0.3091358 ,\n",
            "       0.24296296, 0.3091358 , 0.24296296, 0.3091358 , 0.24296296]), 'split14_test_score': array([       nan,        nan,        nan,        nan,        nan,\n",
            "              nan,        nan,        nan,        nan,        nan,\n",
            "       0.31555556, 0.23802469, 0.31555556, 0.23802469, 0.31555556,\n",
            "       0.23802469, 0.31555556, 0.23802469, 0.31555556, 0.23802469]), 'split15_test_score': array([       nan,        nan,        nan,        nan,        nan,\n",
            "              nan,        nan,        nan,        nan,        nan,\n",
            "       0.31506173, 0.22469136, 0.31506173, 0.22469136, 0.31506173,\n",
            "       0.22469136, 0.31506173, 0.22469136, 0.31506173, 0.22469136]), 'split16_test_score': array([       nan,        nan,        nan,        nan,        nan,\n",
            "              nan,        nan,        nan,        nan,        nan,\n",
            "       0.31506173, 0.22074074, 0.31506173, 0.22074074, 0.31506173,\n",
            "       0.22074074, 0.31506173, 0.22074074, 0.31506173, 0.22074074]), 'split17_test_score': array([       nan,        nan,        nan,        nan,        nan,\n",
            "              nan,        nan,        nan,        nan,        nan,\n",
            "       0.29975309, 0.24148148, 0.29975309, 0.24148148, 0.29975309,\n",
            "       0.24148148, 0.29975309, 0.24148148, 0.29975309, 0.24148148]), 'split18_test_score': array([       nan,        nan,        nan,        nan,        nan,\n",
            "              nan,        nan,        nan,        nan,        nan,\n",
            "       0.29481481, 0.2454321 , 0.29481481, 0.2454321 , 0.29481481,\n",
            "       0.2454321 , 0.29481481, 0.2454321 , 0.29481481, 0.2454321 ]), 'split19_test_score': array([       nan,        nan,        nan,        nan,        nan,\n",
            "              nan,        nan,        nan,        nan,        nan,\n",
            "       0.30222222, 0.21925926, 0.30222222, 0.21925926, 0.30222222,\n",
            "       0.21925926, 0.30222222, 0.21925926, 0.30222222, 0.21925926]), 'mean_test_score': array([       nan,        nan,        nan,        nan,        nan,\n",
            "              nan,        nan,        nan,        nan,        nan,\n",
            "       0.30933333, 0.23441975, 0.30933333, 0.23441975, 0.30933333,\n",
            "       0.23441975, 0.30933333, 0.23441975, 0.30933333, 0.23441975]), 'std_test_score': array([       nan,        nan,        nan,        nan,        nan,\n",
            "              nan,        nan,        nan,        nan,        nan,\n",
            "       0.00726681, 0.01290213, 0.00726681, 0.01290213, 0.00726681,\n",
            "       0.01290213, 0.00726681, 0.01290213, 0.00726681, 0.01290213]), 'rank_test_score': array([11, 11, 11, 11, 11, 11, 11, 11, 11, 11,  1,  6,  1,  6,  1,  6,  1,\n",
            "        6,  1,  6], dtype=int32)}\n",
            "TF-IDF SGD best parameters:  {'loss': 'hinge', 'max_iter': 25, 'penalty': 'l2'}\n"
          ]
        }
      ]
    },
    {
      "cell_type": "markdown",
      "source": [
        "Comparing models:"
      ],
      "metadata": {
        "id": "3KcQ6eBGvgU-"
      }
    },
    {
      "cell_type": "code",
      "source": [
        "import matplotlib.pyplot as plt\n",
        "%matplotlib inline\n",
        "\n",
        "TFIDF_results = pd.DataFrame(TFIDF_Result.items(), columns=['model', 'accuracy'])\n",
        "BOW_results = pd.DataFrame(BOW_Result.items(), columns=['model', 'accuracy'])\n",
        "\n",
        "y1 = TFIDF_results['accuracy']\n",
        "y2 = BOW_results['accuracy']\n",
        "\n",
        "fig, ax = plt.subplots(figsize = (8,5))\n",
        "ind = np.arange(len(TFIDF_results))\n",
        "\n",
        "width = 0.3\n",
        "plt.bar(ind, y1, width, color = 'green')\n",
        "plt.bar(ind - width, y2, width,color = 'purple')\n",
        "\n",
        "plt.title('Model Comparison')\n",
        "plt.xlabel('model')\n",
        "plt.ylabel('accuracy')\n",
        "plt.xticks(np.arange(3), ['logistic regression', 'decision tree', 'SGD'])\n",
        "plt.legend(['TFIDF_results', 'BOW_results'])"
      ],
      "metadata": {
        "colab": {
          "base_uri": "https://localhost:8080/",
          "height": 504
        },
        "id": "G66zMx-gvisQ",
        "outputId": "0746dbfd-96d1-44bb-f4a3-98a0fadb8372"
      },
      "execution_count": 33,
      "outputs": [
        {
          "output_type": "execute_result",
          "data": {
            "text/plain": [
              "<matplotlib.legend.Legend at 0x7c490b2fc150>"
            ]
          },
          "metadata": {},
          "execution_count": 33
        },
        {
          "output_type": "display_data",
          "data": {
            "text/plain": [
              "<Figure size 800x500 with 1 Axes>"
            ],
            "image/png": "[encoded data removed]"
          },
          "metadata": {}
        }
      ]
    },
    {
      "cell_type": "markdown",
      "source": [
        "**Logistic Regression for Test data**"
      ],
      "metadata": {
        "id": "UjXFl3wfHFY9"
      }
    },
    {
      "cell_type": "code",
      "source": [
        "from sklearn.pipeline import Pipeline\n",
        "%matplotlib inline\n",
        "import itertools\n",
        "from sklearn.metrics import accuracy_score, f1_score, precision_score, recall_score, classification_report, confusion_matrix\n",
        "from sklearn.metrics import ConfusionMatrixDisplay\n",
        "\n",
        "\n",
        "log_reg_pipeline = Pipeline([('vect', TfidfVectorizer(ngram_range = (1,1), max_df=.85, min_df=25)),\n",
        "                            ('clf', LogisticRegression(C = 0.1, class_weight = 'balanced', multi_class = 'ovr', penalty = 'l2', solver = 'lbfgs', random_state = 42))])\n",
        "\n",
        "log_reg_pipeline.fit(X_train, y_train)\n",
        "y_hat_prob=log_reg_pipeline.predict_proba(X_test)\n",
        "y_hat = log_reg_pipeline.predict(X_test)\n",
        "print('Test Accuracy score:', accuracy_score(y_test, y_hat))\n",
        "print(classification_report(y_test, y_hat))\n",
        "fig, ax = plt.subplots(figsize=(20,10))\n",
        "ConfusionMatrixDisplay.from_estimator(log_reg_pipeline, X_test, y_test, ax = ax, display_labels = ['fantasy', 'horror', 'family', 'scifi', 'action', 'crime', 'adventure', 'mystery', 'romance', 'thriller'])\n",
        "plt.grid(None)\n",
        "plt.xlabel('Predicted Label', size = 15)\n",
        "plt.ylabel('True Label', size = 15)\n",
        "plt.xticks(size = 10)\n",
        "plt.yticks(size = 10)"
      ],
      "metadata": {
        "colab": {
          "base_uri": "https://localhost:8080/",
          "height": 1000
        },
        "id": "RhNfHeEzHFB6",
        "outputId": "695a944d-110e-4a05-a4d7-71ab2bf9a7cc"
      },
      "execution_count": 47,
      "outputs": [
        {
          "output_type": "stream",
          "name": "stderr",
          "text": [
            "/usr/local/lib/python3.11/dist-packages/sklearn/linear_model/_logistic.py:1256: FutureWarning: 'multi_class' was deprecated in version 1.5 and will be removed in 1.7. Use OneVsRestClassifier(LogisticRegression(..)) instead. Leave it to its default value to avoid this warning.\n",
            "  warnings.warn(\n"
          ]
        },
        {
          "output_type": "stream",
          "name": "stdout",
          "text": [
            "Test Accuracy score: 0.35948148148148146\n",
            "              precision    recall  f1-score   support\n",
            "\n",
            "      action       0.31      0.28      0.29      1369\n",
            "   adventure       0.29      0.26      0.27      1332\n",
            "       crime       0.38      0.39      0.39      1399\n",
            "      family       0.39      0.46      0.42      1325\n",
            "     fantasy       0.32      0.27      0.29      1345\n",
            "      horror       0.40      0.42      0.41      1389\n",
            "     mystery       0.29      0.30      0.29      1323\n",
            "     romance       0.46      0.59      0.52      1327\n",
            "       scifi       0.41      0.47      0.44      1347\n",
            "    thriller       0.24      0.16      0.19      1344\n",
            "\n",
            "    accuracy                           0.36     13500\n",
            "   macro avg       0.35      0.36      0.35     13500\n",
            "weighted avg       0.35      0.36      0.35     13500\n",
            "\n"
          ]
        },
        {
          "output_type": "execute_result",
          "data": {
            "text/plain": [
              "(array([0, 1, 2, 3, 4, 5, 6, 7, 8, 9]),\n",
              " [Text(0, 0, 'fantasy'),\n",
              "  Text(0, 1, 'horror'),\n",
              "  Text(0, 2, 'family'),\n",
              "  Text(0, 3, 'scifi'),\n",
              "  Text(0, 4, 'action'),\n",
              "  Text(0, 5, 'crime'),\n",
              "  Text(0, 6, 'adventure'),\n",
              "  Text(0, 7, 'mystery'),\n",
              "  Text(0, 8, 'romance'),\n",
              "  Text(0, 9, 'thriller')])"
            ]
          },
          "metadata": {},
          "execution_count": 47
        },
        {
          "output_type": "display_data",
          "data": {
            "text/plain": [
              "<Figure size 2000x1000 with 2 Axes>"
            ],
            "image/png": "[encoded data removed]"
          },
          "metadata": {}
        }
      ]
    }
  ]
}
